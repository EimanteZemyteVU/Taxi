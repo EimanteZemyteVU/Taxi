{
  "nbformat": 4,
  "nbformat_minor": 0,
  "metadata": {
    "colab": {
      "provenance": []
    },
    "kernelspec": {
      "name": "ir",
      "display_name": "R"
    },
    "language_info": {
      "name": "R"
    }
  },
  "cells": [
    {
      "cell_type": "code",
      "source": [
        "# Install and load the required package if not already installed\n",
        "if (!requireNamespace(\"readr\", quietly = TRUE)) {\n",
        "  install.packages(\"readr\")\n",
        "}\n",
        "library(readr)\n",
        "\n",
        "# Define the file paths for all CSV files\n",
        "file_paths <- c(\"trips_import_2020-06.csv\")\n",
        "\n",
        "# Initialize an empty dataframe\n",
        "trips <- data.frame()\n",
        "\n",
        "# Loop through each file, read it, and append to the trips dataframe\n",
        "for (file_path in file_paths) {\n",
        "  temp_df <- read_csv(file_path)\n",
        "  trips <- rbind(trips, temp_df)\n",
        "}\n",
        "\n",
        "# View the first few rows of the combined dataframe\n",
        "head(trips)"
      ],
      "metadata": {
        "colab": {
          "base_uri": "https://localhost:8080/",
          "height": 497
        },
        "id": "HC7IIwaFYaNr",
        "outputId": "35d308eb-090a-47f2-877c-3fb88f573333"
      },
      "execution_count": 1,
      "outputs": [
        {
          "output_type": "stream",
          "name": "stderr",
          "text": [
            "\u001b[1mRows: \u001b[22m\u001b[34m345277\u001b[39m \u001b[1mColumns: \u001b[22m\u001b[34m29\u001b[39m\n",
            "\u001b[36m──\u001b[39m \u001b[1mColumn specification\u001b[22m \u001b[36m────────────────────────────────────────────────────────\u001b[39m\n",
            "\u001b[1mDelimiter:\u001b[22m \",\"\n",
            "\u001b[31mchr\u001b[39m   (2): store_and_fwd_flag, pickup_weekday\n",
            "\u001b[32mdbl\u001b[39m  (19): VendorID, passenger_count, trip_distance, RatecodeID, PULocationI...\n",
            "\u001b[34mdttm\u001b[39m  (2): tpep_pickup_datetime, tpep_dropoff_datetime\n",
            "\u001b[34mdate\u001b[39m  (4): file_date, eom_plus_1, pickup_date, dropoff_date\n",
            "\u001b[34mtime\u001b[39m  (2): pickup_time, dropoff_time\n",
            "\n",
            "\u001b[36mℹ\u001b[39m Use `spec()` to retrieve the full column specification for this data.\n",
            "\u001b[36mℹ\u001b[39m Specify the column types or set `show_col_types = FALSE` to quiet this message.\n"
          ]
        },
        {
          "output_type": "display_data",
          "data": {
            "text/html": [
              "<table class=\"dataframe\">\n",
              "<caption>A tibble: 6 × 29</caption>\n",
              "<thead>\n",
              "\t<tr><th scope=col>VendorID</th><th scope=col>tpep_pickup_datetime</th><th scope=col>tpep_dropoff_datetime</th><th scope=col>passenger_count</th><th scope=col>trip_distance</th><th scope=col>RatecodeID</th><th scope=col>store_and_fwd_flag</th><th scope=col>PULocationID</th><th scope=col>DOLocationID</th><th scope=col>payment_type</th><th scope=col>⋯</th><th scope=col>pickup_date</th><th scope=col>pickup_time</th><th scope=col>dropoff_date</th><th scope=col>dropoff_time</th><th scope=col>trip_duration</th><th scope=col>pickup_hour</th><th scope=col>pickup_weekday</th><th scope=col>PULocationID_encoded</th><th scope=col>DOLocationID_encoded</th><th scope=col>VendorID_encoded</th></tr>\n",
              "\t<tr><th scope=col>&lt;dbl&gt;</th><th scope=col>&lt;dttm&gt;</th><th scope=col>&lt;dttm&gt;</th><th scope=col>&lt;dbl&gt;</th><th scope=col>&lt;dbl&gt;</th><th scope=col>&lt;dbl&gt;</th><th scope=col>&lt;chr&gt;</th><th scope=col>&lt;dbl&gt;</th><th scope=col>&lt;dbl&gt;</th><th scope=col>&lt;dbl&gt;</th><th scope=col>⋯</th><th scope=col>&lt;date&gt;</th><th scope=col>&lt;time&gt;</th><th scope=col>&lt;date&gt;</th><th scope=col>&lt;time&gt;</th><th scope=col>&lt;dbl&gt;</th><th scope=col>&lt;dbl&gt;</th><th scope=col>&lt;chr&gt;</th><th scope=col>&lt;dbl&gt;</th><th scope=col>&lt;dbl&gt;</th><th scope=col>&lt;dbl&gt;</th></tr>\n",
              "</thead>\n",
              "<tbody>\n",
              "\t<tr><td>1</td><td>2020-06-01 00:31:23</td><td>2020-06-01 00:49:58</td><td>1</td><td>3.60</td><td>1</td><td>N</td><td>140</td><td> 68</td><td>1</td><td>⋯</td><td>2020-06-01</td><td>00:31:23</td><td>2020-06-01</td><td>00:49:58</td><td>1115</td><td>0</td><td>Monday</td><td>15.97617</td><td>13.80704</td><td>15.29467</td></tr>\n",
              "\t<tr><td>1</td><td>2020-06-01 00:42:50</td><td>2020-06-01 01:04:33</td><td>1</td><td>5.60</td><td>1</td><td>N</td><td> 79</td><td>226</td><td>1</td><td>⋯</td><td>2020-06-01</td><td>00:42:50</td><td>2020-06-01</td><td>01:04:33</td><td>1303</td><td>0</td><td>Monday</td><td>15.39873</td><td>26.66805</td><td>15.29467</td></tr>\n",
              "\t<tr><td>1</td><td>2020-06-01 00:39:51</td><td>2020-06-01 00:49:09</td><td>1</td><td>2.30</td><td>1</td><td>N</td><td>238</td><td>116</td><td>2</td><td>⋯</td><td>2020-06-01</td><td>00:39:51</td><td>2020-06-01</td><td>00:49:09</td><td> 558</td><td>0</td><td>Monday</td><td>13.68903</td><td>18.22794</td><td>15.29467</td></tr>\n",
              "\t<tr><td>1</td><td>2020-06-01 00:56:13</td><td>2020-06-01 01:11:38</td><td>1</td><td>5.30</td><td>1</td><td>N</td><td>141</td><td>116</td><td>2</td><td>⋯</td><td>2020-06-01</td><td>00:56:13</td><td>2020-06-01</td><td>01:11:38</td><td> 925</td><td>0</td><td>Monday</td><td>13.38711</td><td>18.22794</td><td>15.29467</td></tr>\n",
              "\t<tr><td>1</td><td>2020-06-01 00:16:41</td><td>2020-06-01 00:29:30</td><td>1</td><td>4.40</td><td>1</td><td>N</td><td>186</td><td> 75</td><td>1</td><td>⋯</td><td>2020-06-01</td><td>00:16:41</td><td>2020-06-01</td><td>00:29:30</td><td> 769</td><td>0</td><td>Monday</td><td>15.24436</td><td>13.24517</td><td>15.29467</td></tr>\n",
              "\t<tr><td>2</td><td>2020-06-01 00:06:29</td><td>2020-06-01 00:13:22</td><td>1</td><td>1.72</td><td>1</td><td>N</td><td>142</td><td>186</td><td>2</td><td>⋯</td><td>2020-06-01</td><td>00:06:29</td><td>2020-06-01</td><td>00:13:22</td><td> 413</td><td>0</td><td>Monday</td><td>13.83188</td><td>12.93527</td><td>15.47736</td></tr>\n",
              "</tbody>\n",
              "</table>\n"
            ],
            "text/markdown": "\nA tibble: 6 × 29\n\n| VendorID &lt;dbl&gt; | tpep_pickup_datetime &lt;dttm&gt; | tpep_dropoff_datetime &lt;dttm&gt; | passenger_count &lt;dbl&gt; | trip_distance &lt;dbl&gt; | RatecodeID &lt;dbl&gt; | store_and_fwd_flag &lt;chr&gt; | PULocationID &lt;dbl&gt; | DOLocationID &lt;dbl&gt; | payment_type &lt;dbl&gt; | ⋯ ⋯ | pickup_date &lt;date&gt; | pickup_time &lt;time&gt; | dropoff_date &lt;date&gt; | dropoff_time &lt;time&gt; | trip_duration &lt;dbl&gt; | pickup_hour &lt;dbl&gt; | pickup_weekday &lt;chr&gt; | PULocationID_encoded &lt;dbl&gt; | DOLocationID_encoded &lt;dbl&gt; | VendorID_encoded &lt;dbl&gt; |\n|---|---|---|---|---|---|---|---|---|---|---|---|---|---|---|---|---|---|---|---|---|\n| 1 | 2020-06-01 00:31:23 | 2020-06-01 00:49:58 | 1 | 3.60 | 1 | N | 140 |  68 | 1 | ⋯ | 2020-06-01 | 00:31:23 | 2020-06-01 | 00:49:58 | 1115 | 0 | Monday | 15.97617 | 13.80704 | 15.29467 |\n| 1 | 2020-06-01 00:42:50 | 2020-06-01 01:04:33 | 1 | 5.60 | 1 | N |  79 | 226 | 1 | ⋯ | 2020-06-01 | 00:42:50 | 2020-06-01 | 01:04:33 | 1303 | 0 | Monday | 15.39873 | 26.66805 | 15.29467 |\n| 1 | 2020-06-01 00:39:51 | 2020-06-01 00:49:09 | 1 | 2.30 | 1 | N | 238 | 116 | 2 | ⋯ | 2020-06-01 | 00:39:51 | 2020-06-01 | 00:49:09 |  558 | 0 | Monday | 13.68903 | 18.22794 | 15.29467 |\n| 1 | 2020-06-01 00:56:13 | 2020-06-01 01:11:38 | 1 | 5.30 | 1 | N | 141 | 116 | 2 | ⋯ | 2020-06-01 | 00:56:13 | 2020-06-01 | 01:11:38 |  925 | 0 | Monday | 13.38711 | 18.22794 | 15.29467 |\n| 1 | 2020-06-01 00:16:41 | 2020-06-01 00:29:30 | 1 | 4.40 | 1 | N | 186 |  75 | 1 | ⋯ | 2020-06-01 | 00:16:41 | 2020-06-01 | 00:29:30 |  769 | 0 | Monday | 15.24436 | 13.24517 | 15.29467 |\n| 2 | 2020-06-01 00:06:29 | 2020-06-01 00:13:22 | 1 | 1.72 | 1 | N | 142 | 186 | 2 | ⋯ | 2020-06-01 | 00:06:29 | 2020-06-01 | 00:13:22 |  413 | 0 | Monday | 13.83188 | 12.93527 | 15.47736 |\n\n",
            "text/latex": "A tibble: 6 × 29\n\\begin{tabular}{lllllllllllllllllllll}\n VendorID & tpep\\_pickup\\_datetime & tpep\\_dropoff\\_datetime & passenger\\_count & trip\\_distance & RatecodeID & store\\_and\\_fwd\\_flag & PULocationID & DOLocationID & payment\\_type & ⋯ & pickup\\_date & pickup\\_time & dropoff\\_date & dropoff\\_time & trip\\_duration & pickup\\_hour & pickup\\_weekday & PULocationID\\_encoded & DOLocationID\\_encoded & VendorID\\_encoded\\\\\n <dbl> & <dttm> & <dttm> & <dbl> & <dbl> & <dbl> & <chr> & <dbl> & <dbl> & <dbl> & ⋯ & <date> & <time> & <date> & <time> & <dbl> & <dbl> & <chr> & <dbl> & <dbl> & <dbl>\\\\\n\\hline\n\t 1 & 2020-06-01 00:31:23 & 2020-06-01 00:49:58 & 1 & 3.60 & 1 & N & 140 &  68 & 1 & ⋯ & 2020-06-01 & 00:31:23 & 2020-06-01 & 00:49:58 & 1115 & 0 & Monday & 15.97617 & 13.80704 & 15.29467\\\\\n\t 1 & 2020-06-01 00:42:50 & 2020-06-01 01:04:33 & 1 & 5.60 & 1 & N &  79 & 226 & 1 & ⋯ & 2020-06-01 & 00:42:50 & 2020-06-01 & 01:04:33 & 1303 & 0 & Monday & 15.39873 & 26.66805 & 15.29467\\\\\n\t 1 & 2020-06-01 00:39:51 & 2020-06-01 00:49:09 & 1 & 2.30 & 1 & N & 238 & 116 & 2 & ⋯ & 2020-06-01 & 00:39:51 & 2020-06-01 & 00:49:09 &  558 & 0 & Monday & 13.68903 & 18.22794 & 15.29467\\\\\n\t 1 & 2020-06-01 00:56:13 & 2020-06-01 01:11:38 & 1 & 5.30 & 1 & N & 141 & 116 & 2 & ⋯ & 2020-06-01 & 00:56:13 & 2020-06-01 & 01:11:38 &  925 & 0 & Monday & 13.38711 & 18.22794 & 15.29467\\\\\n\t 1 & 2020-06-01 00:16:41 & 2020-06-01 00:29:30 & 1 & 4.40 & 1 & N & 186 &  75 & 1 & ⋯ & 2020-06-01 & 00:16:41 & 2020-06-01 & 00:29:30 &  769 & 0 & Monday & 15.24436 & 13.24517 & 15.29467\\\\\n\t 2 & 2020-06-01 00:06:29 & 2020-06-01 00:13:22 & 1 & 1.72 & 1 & N & 142 & 186 & 2 & ⋯ & 2020-06-01 & 00:06:29 & 2020-06-01 & 00:13:22 &  413 & 0 & Monday & 13.83188 & 12.93527 & 15.47736\\\\\n\\end{tabular}\n",
            "text/plain": [
              "  VendorID tpep_pickup_datetime tpep_dropoff_datetime passenger_count\n",
              "1 1        2020-06-01 00:31:23  2020-06-01 00:49:58   1              \n",
              "2 1        2020-06-01 00:42:50  2020-06-01 01:04:33   1              \n",
              "3 1        2020-06-01 00:39:51  2020-06-01 00:49:09   1              \n",
              "4 1        2020-06-01 00:56:13  2020-06-01 01:11:38   1              \n",
              "5 1        2020-06-01 00:16:41  2020-06-01 00:29:30   1              \n",
              "6 2        2020-06-01 00:06:29  2020-06-01 00:13:22   1              \n",
              "  trip_distance RatecodeID store_and_fwd_flag PULocationID DOLocationID\n",
              "1 3.60          1          N                  140           68         \n",
              "2 5.60          1          N                   79          226         \n",
              "3 2.30          1          N                  238          116         \n",
              "4 5.30          1          N                  141          116         \n",
              "5 4.40          1          N                  186           75         \n",
              "6 1.72          1          N                  142          186         \n",
              "  payment_type ⋯ pickup_date pickup_time dropoff_date dropoff_time\n",
              "1 1            ⋯ 2020-06-01  00:31:23    2020-06-01   00:49:58    \n",
              "2 1            ⋯ 2020-06-01  00:42:50    2020-06-01   01:04:33    \n",
              "3 2            ⋯ 2020-06-01  00:39:51    2020-06-01   00:49:09    \n",
              "4 2            ⋯ 2020-06-01  00:56:13    2020-06-01   01:11:38    \n",
              "5 1            ⋯ 2020-06-01  00:16:41    2020-06-01   00:29:30    \n",
              "6 2            ⋯ 2020-06-01  00:06:29    2020-06-01   00:13:22    \n",
              "  trip_duration pickup_hour pickup_weekday PULocationID_encoded\n",
              "1 1115          0           Monday         15.97617            \n",
              "2 1303          0           Monday         15.39873            \n",
              "3  558          0           Monday         13.68903            \n",
              "4  925          0           Monday         13.38711            \n",
              "5  769          0           Monday         15.24436            \n",
              "6  413          0           Monday         13.83188            \n",
              "  DOLocationID_encoded VendorID_encoded\n",
              "1 13.80704             15.29467        \n",
              "2 26.66805             15.29467        \n",
              "3 18.22794             15.29467        \n",
              "4 18.22794             15.29467        \n",
              "5 13.24517             15.29467        \n",
              "6 12.93527             15.47736        "
            ]
          },
          "metadata": {}
        }
      ]
    },
    {
      "cell_type": "code",
      "source": [
        "# Step 1: Select only numeric columns\n",
        "numerical_cols <- names(trips)[sapply(trips, is.numeric)]\n",
        "\n",
        "# Step 2: Exclude 'total_amount' from the numeric columns\n",
        "numerical_cols <- numerical_cols[numerical_cols != 'total_amount']\n",
        "\n",
        "# Step 3: Calculate the correlation matrix, handling potential issues with constant columns\n",
        "# First, remove columns with zero variance to avoid \"the standard deviation is zero\" issue\n",
        "trips_numerical <- trips[, numerical_cols]\n",
        "trips_numerical <- trips_numerical[, sapply(trips_numerical, sd) != 0]\n",
        "\n",
        "# Calculate the correlation matrix\n",
        "corr_matrix <- cor(trips_numerical, use = \"complete.obs\")\n",
        "\n",
        "# Step 4: Identify features with correlation higher than the threshold (0.8)\n",
        "correlated_features <- c()\n",
        "threshold <- 0.8\n",
        "\n",
        "for (i in 1:(ncol(corr_matrix) - 1)) {\n",
        "  for (j in (i + 1):ncol(corr_matrix)) {\n",
        "    if (!is.na(corr_matrix[i, j]) && abs(corr_matrix[i, j]) > threshold) {\n",
        "      correlated_features <- c(correlated_features, colnames(corr_matrix)[i])\n",
        "    }\n",
        "  }\n",
        "}\n",
        "\n",
        "# Step 5: Print out the correlated features\n",
        "cat(\"Correlated features (above\", threshold, \") to drop:\", correlated_features, \"\\n\")\n",
        "\n",
        "# Step 6: Drop the correlated features but keep 'total_amount'\n",
        "trips <- trips[, !(names(trips) %in% correlated_features)]\n",
        "\n",
        "# Step 7: Display remaining columns\n",
        "cat(\"Remaining features after dropping correlated ones:\", colnames(trips), \"\\n\")\n"
      ],
      "metadata": {
        "colab": {
          "base_uri": "https://localhost:8080/"
        },
        "id": "aLElmXvQYjaZ",
        "outputId": "b6e5727e-fd90-473d-c6b3-87c9ca948a72"
      },
      "execution_count": 4,
      "outputs": [
        {
          "output_type": "stream",
          "name": "stdout",
          "text": [
            "Correlated features (above 0.8 ) to drop: VendorID VendorID trip_distance fare_amount extra \n",
            "Remaining features after dropping correlated ones: tpep_pickup_datetime tpep_dropoff_datetime passenger_count RatecodeID store_and_fwd_flag PULocationID DOLocationID payment_type mta_tax tip_amount tolls_amount improvement_surcharge total_amount file_date eom_plus_1 pickup_date pickup_time dropoff_date dropoff_time trip_duration pickup_hour pickup_weekday PULocationID_encoded DOLocationID_encoded VendorID_encoded \n"
          ]
        }
      ]
    },
    {
      "cell_type": "code",
      "source": [
        "# Step 1: Identify columns with zero variance (only one unique value)\n",
        "zero_variance_cols <- names(trips)[sapply(trips, function(x) length(unique(x)) <= 1)]\n",
        "\n",
        "# Step 2: Print columns with zero variance\n",
        "cat(\"Columns with zero variance:\", zero_variance_cols, \"\\n\")\n",
        "\n",
        "# Step 3: Drop columns with zero variance\n",
        "trips <- trips[, !(names(trips) %in% zero_variance_cols)]\n",
        "\n",
        "# Step 4: Print the remaining columns\n",
        "cat(\"Remaining columns:\", colnames(trips), \"\\n\")\n"
      ],
      "metadata": {
        "colab": {
          "base_uri": "https://localhost:8080/"
        },
        "id": "BzhNp40fZuvb",
        "outputId": "64946d31-c0b1-45e0-aac9-507c92e84783"
      },
      "execution_count": 5,
      "outputs": [
        {
          "output_type": "stream",
          "name": "stdout",
          "text": [
            "Columns with zero variance: passenger_count mta_tax tolls_amount improvement_surcharge file_date eom_plus_1 \n",
            "Remaining columns: tpep_pickup_datetime tpep_dropoff_datetime RatecodeID store_and_fwd_flag PULocationID DOLocationID payment_type tip_amount total_amount pickup_date pickup_time dropoff_date dropoff_time trip_duration pickup_hour pickup_weekday PULocationID_encoded DOLocationID_encoded VendorID_encoded \n"
          ]
        }
      ]
    },
    {
      "cell_type": "code",
      "source": [
        "# Create dummy variables for 'RatecodeID' column\n",
        "trips <- cbind(trips, model.matrix(~ RatecodeID - 1, data = trips))\n",
        "\n",
        "# Remove the original 'RatecodeID' column as it's now encoded\n",
        "trips$RatecodeID <- NULL\n"
      ],
      "metadata": {
        "id": "vZP7DMITZwIK"
      },
      "execution_count": 6,
      "outputs": []
    },
    {
      "cell_type": "code",
      "source": [
        "# Set the seed for reproducibility\n",
        "set.seed(123)\n",
        "\n",
        "# Get the indices of the dataset\n",
        "dt_index <- 1:nrow(trips)\n",
        "\n",
        "# Sample 80% of the indices\n",
        "smpl_index <- sample(dt_index, size = floor(0.8 * length(dt_index)), replace = FALSE)\n",
        "\n",
        "# Create the training set using the sampled indices\n",
        "dt_train <- trips[smpl_index, ]\n",
        "\n",
        "# Create the test set by excluding the sampled indices\n",
        "dt_test <- trips[-smpl_index, ]\n",
        "\n",
        "# Reset the index for the training set (reset row names in R)\n",
        "rownames(dt_train) <- NULL\n",
        "\n",
        "# Print the lengths of the datasets\n",
        "cat(\"Length of training set:\", nrow(dt_train), \"\\n\")\n",
        "cat(\"Length of test set:\", nrow(dt_test), \"\\n\")\n"
      ],
      "metadata": {
        "colab": {
          "base_uri": "https://localhost:8080/"
        },
        "id": "QVKEjxyGZ1Lo",
        "outputId": "1de8aa7f-0561-42fa-8845-4094e9a5c617"
      },
      "execution_count": 8,
      "outputs": [
        {
          "output_type": "stream",
          "name": "stdout",
          "text": [
            "Length of training set: 276221 \n",
            "Length of test set: 69056 \n"
          ]
        }
      ]
    },
    {
      "cell_type": "code",
      "source": [
        "install.packages(\"car\")\n",
        "library(car)  # For vif() function\n",
        "\n"
      ],
      "metadata": {
        "colab": {
          "base_uri": "https://localhost:8080/"
        },
        "id": "FTKdn_eyaCP0",
        "outputId": "0842e78a-4e7b-4a58-ffd5-1af49ccceb75"
      },
      "execution_count": 11,
      "outputs": [
        {
          "output_type": "stream",
          "name": "stderr",
          "text": [
            "Installing package into ‘/usr/local/lib/R/site-library’\n",
            "(as ‘lib’ is unspecified)\n",
            "\n",
            "also installing the dependencies ‘cowplot’, ‘Deriv’, ‘microbenchmark’, ‘numDeriv’, ‘doBy’, ‘SparseM’, ‘MatrixModels’, ‘minqa’, ‘nloptr’, ‘RcppEigen’, ‘carData’, ‘abind’, ‘Formula’, ‘pbkrtest’, ‘quantreg’, ‘lme4’\n",
            "\n",
            "\n",
            "Loading required package: carData\n",
            "\n"
          ]
        }
      ]
    },
    {
      "cell_type": "code",
      "source": [
        "# Replace zeros with a small constant (1e-5) in total_amount column\n",
        "dt_train$total_amount <- ifelse(dt_train$total_amount == 0, 1e-5, dt_train$total_amount)\n"
      ],
      "metadata": {
        "id": "IeP1hY0NaWea"
      },
      "execution_count": 12,
      "outputs": []
    },
    {
      "cell_type": "code",
      "source": [
        "# Define the initial formula\n",
        "formula <- \"log(total_amount) ~\n",
        "  log(tip_amount + 1) +\n",
        "  PULocationID_encoded +\n",
        "  DOLocationID_encoded +\n",
        "  VendorID_encoded +\n",
        "  factor(store_and_fwd_flag) +\n",
        "  factor(payment_type)\"\n",
        "\n",
        "\n",
        "\n",
        "  #  I(trip_distance^2) +\n",
        "  #      RatecodeID_1 +\n",
        "  #          log(passenger_count + 1) +\n",
        "      # RatecodeID_2 +\n",
        "        #  RatecodeID_3 +\n",
        "            # RatecodeID_4 +\n",
        "                # RatecodeID_5 +\n",
        "  # RatecodeID_6 +\n",
        "\n",
        "  # pickup_weekday_Friday +\n",
        "  # pickup_weekday_Monday +\n",
        "  # pickup_weekday_Saturday +\n",
        "  # pickup_weekday_Sunday +\n",
        "  # pickup_weekday_Thursday +\n",
        "  # pickup_weekday_Tuesday\""
      ],
      "metadata": {
        "id": "VXl7EisOacva"
      },
      "execution_count": 30,
      "outputs": []
    },
    {
      "cell_type": "code",
      "source": [
        "# Define function to calculate VIFs\n",
        "calculate_vifs <- function(model) {\n",
        "  vif_data <- vif(model)\n",
        "\n",
        "  # If vif_data is a matrix, convert it to a data frame\n",
        "  if (is.matrix(vif_data)) {\n",
        "    vif_data <- as.data.frame(vif_data)\n",
        "    vif_data$Variable <- rownames(vif_data)\n",
        "    colnames(vif_data) <- c(\"VIF\", \"Variable\")  # Rename the columns for clarity\n",
        "  }\n",
        "\n",
        "  return(vif_data)\n",
        "}\n",
        "# Function to calculate and check for high VIFs\n",
        "check_high_vifs <- function(vif_data) {\n",
        "  high_vif_columns <- vif_data[vif_data$VIF > 4 | is.na(vif_data$VIF), \"Variable\"]\n",
        "  return(high_vif_columns)\n",
        "}\n"
      ],
      "metadata": {
        "id": "wLblSK_0aek2"
      },
      "execution_count": 32,
      "outputs": []
    },
    {
      "cell_type": "code",
      "source": [
        "# Iteratively remove variables based on VIFs and p-values\n",
        "repeat {\n",
        "  # Fit the model\n",
        "  mdl <- lm(formula, data = dt_train)\n",
        "\n",
        "  # Calculate VIFs\n",
        "  vif_data <- calculate_vifs(mdl)\n",
        "\n",
        "  # Check for high VIFs (>4 or NA)\n",
        "  high_vif_columns <- check_high_vifs(vif_data)\n",
        "\n",
        "  # If high VIFs exist, remove the first variable with high VIF\n",
        "  if (length(high_vif_columns) > 0) {\n",
        "    variable_to_remove <- high_vif_columns[1]\n",
        "    print(paste(\"Removing variable with high VIF:\", variable_to_remove))\n",
        "\n",
        "    # Update the formula by removing the variable\n",
        "    formula <- update(formula, paste(\". ~ . -\", variable_to_remove))\n",
        "\n",
        "    next  # Recalculate the model and VIFs after the change\n",
        "  }\n",
        "\n",
        "  # Get the summary table\n",
        "  summary_table <- summary(mdl)\n",
        "\n",
        "  # Identify variables with p-value > 0.05\n",
        "  high_p_columns <- names(summary_table$coefficients)[summary_table$coefficients[, 4] > 0.05]\n",
        "\n",
        "  # If no high p-values, break the loop\n",
        "  if (length(high_p_columns) == 0) {\n",
        "    print(\"No variables with high p-values remain.\")\n",
        "    break\n",
        "  }\n",
        "\n",
        "  # If there are high p-values, remove the first variable with high p-value\n",
        "  variable_to_remove <- high_p_columns[1]\n",
        "  print(paste(\"Removing variable with high p-value:\", variable_to_remove))\n",
        "\n",
        "  # Update the formula by removing the variable\n",
        "  formula <- update(formula, paste(\". ~ . -\", variable_to_remove))\n",
        "}\n"
      ],
      "metadata": {
        "colab": {
          "base_uri": "https://localhost:8080/"
        },
        "id": "Je1BnTLlajeF",
        "outputId": "84531b76-37b1-40a6-80a0-b5a63f39d631"
      },
      "execution_count": 33,
      "outputs": [
        {
          "output_type": "stream",
          "name": "stdout",
          "text": [
            "[1] \"No variables with high p-values remain.\"\n"
          ]
        }
      ]
    },
    {
      "cell_type": "code",
      "source": [
        "# After the final model fitting, print the VIFs\n",
        "mdl <- lm(formula, data = dt_train)\n",
        "vif_data <- calculate_vifs(mdl)\n",
        "print(\"\\nFinal VIFs:\")\n",
        "print(vif_data)\n"
      ],
      "metadata": {
        "colab": {
          "base_uri": "https://localhost:8080/"
        },
        "id": "nj1JNgvfalWC",
        "outputId": "c1853097-f6a9-4780-cef6-1a4c5819fc90"
      },
      "execution_count": 34,
      "outputs": [
        {
          "output_type": "stream",
          "name": "stdout",
          "text": [
            "[1] \"\\nFinal VIFs:\"\n",
            "                                VIF Variable       NA\n",
            "log(tip_amount + 1)        3.340834        1 1.827795\n",
            "PULocationID_encoded       1.521520        1 1.233499\n",
            "DOLocationID_encoded       1.518328        1 1.232204\n",
            "VendorID_encoded           1.028508        1 1.014154\n",
            "factor(store_and_fwd_flag) 1.013617        1 1.006785\n",
            "factor(payment_type)       3.392878        4 1.164987\n",
            "                                                   NA\n",
            "log(tip_amount + 1)               log(tip_amount + 1)\n",
            "PULocationID_encoded             PULocationID_encoded\n",
            "DOLocationID_encoded             DOLocationID_encoded\n",
            "VendorID_encoded                     VendorID_encoded\n",
            "factor(store_and_fwd_flag) factor(store_and_fwd_flag)\n",
            "factor(payment_type)             factor(payment_type)\n"
          ]
        }
      ]
    },
    {
      "cell_type": "code",
      "source": [
        "# Print the final formula and summary\n",
        "print(\"Final formula:\")\n",
        "print(formula)\n",
        "print(summary(mdl))"
      ],
      "metadata": {
        "colab": {
          "base_uri": "https://localhost:8080/"
        },
        "id": "19f7ApuEanIJ",
        "outputId": "261629f0-6e27-4fe3-f90b-0ffbc9771c69"
      },
      "execution_count": 35,
      "outputs": [
        {
          "output_type": "stream",
          "name": "stdout",
          "text": [
            "[1] \"Final formula:\"\n",
            "[1] \"log(total_amount) ~ \\n  log(tip_amount + 1) + \\n  PULocationID_encoded + \\n  DOLocationID_encoded + \\n  VendorID_encoded + \\n  factor(store_and_fwd_flag) + \\n  factor(payment_type)\"\n",
            "\n",
            "Call:\n",
            "lm(formula = formula, data = dt_train)\n",
            "\n",
            "Residuals:\n",
            "     Min       1Q   Median       3Q      Max \n",
            "-2.77528 -0.21228 -0.01473  0.20757  1.37036 \n",
            "\n",
            "Coefficients:\n",
            "                              Estimate Std. Error t value Pr(>|t|)    \n",
            "(Intercept)                  3.3470509  0.1089778  30.713  < 2e-16 ***\n",
            "log(tip_amount + 1)          0.2658690  0.0018173 146.298  < 2e-16 ***\n",
            "PULocationID_encoded        -0.0063700  0.0002046 -31.134  < 2e-16 ***\n",
            "DOLocationID_encoded         0.0267073  0.0001765 151.332  < 2e-16 ***\n",
            "VendorID_encoded            -0.0933332  0.0070811 -13.181  < 2e-16 ***\n",
            "factor(store_and_fwd_flag)Y -0.0403986  0.0073180  -5.520 3.38e-08 ***\n",
            "factor(payment_type)2        0.1780888  0.0024170  73.681  < 2e-16 ***\n",
            "factor(payment_type)3        0.0028548  0.0073928   0.386  0.69937    \n",
            "factor(payment_type)4        0.1014658  0.0135468   7.490 6.91e-14 ***\n",
            "factor(payment_type)5        0.3888329  0.1254669   3.099  0.00194 ** \n",
            "---\n",
            "Signif. codes:  0 ‘***’ 0.001 ‘**’ 0.01 ‘*’ 0.05 ‘.’ 0.1 ‘ ’ 1\n",
            "\n",
            "Residual standard error: 0.3314 on 276211 degrees of freedom\n",
            "Multiple R-squared:  0.1666,\tAdjusted R-squared:  0.1666 \n",
            "F-statistic:  6135 on 9 and 276211 DF,  p-value: < 2.2e-16\n",
            "\n"
          ]
        }
      ]
    }
  ]
}