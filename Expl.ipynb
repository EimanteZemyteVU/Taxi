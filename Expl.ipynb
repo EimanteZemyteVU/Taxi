{
 "cells": [
  {
   "cell_type": "code",
   "execution_count": 1,
   "metadata": {},
   "outputs": [
    {
     "name": "stdout",
     "output_type": "stream",
     "text": [
      "Original number of rows: 6122322\n",
      "Number of rows after removing outliers: 6122322\n"
     ]
    }
   ],
   "source": [
    "import pandas as pd\n",
    "import scipy\n",
    "import seaborn as sns\n",
    "import numpy as np\n",
    "import matplotlib.pyplot as plt\n",
    "\n",
    "\n",
    "import DataImport\n",
    "import ProcessTrips\n",
    "\n",
    "trips = ProcessTrips.transformTrips(DataImport.trips)\n",
    "zones = DataImport.zones"
   ]
  },
  {
   "cell_type": "code",
   "execution_count": 2,
   "metadata": {},
   "outputs": [
    {
     "name": "stdout",
     "output_type": "stream",
     "text": [
      "        VendorID           tpep_pickup_datetime  \\\n",
      "count 6122322.00                        6122322   \n",
      "mean        1.60  2019-01-17 03:13:48.876795136   \n",
      "min         1.00            2019-01-01 00:00:03   \n",
      "25%         1.00  2019-01-09 19:03:31.249999872   \n",
      "50%         2.00     2019-01-16 23:28:52.500000   \n",
      "75%         2.00            2019-01-24 19:44:38   \n",
      "max         4.00            2019-01-31 23:59:41   \n",
      "std         0.55                            NaN   \n",
      "\n",
      "               tpep_dropoff_datetime  passenger_count  trip_distance  \\\n",
      "count                        6122322       6122322.00     6122322.00   \n",
      "mean   2019-01-17 03:27:12.691109632             1.23           1.68   \n",
      "min              2019-01-01 00:01:33             0.00           0.00   \n",
      "25%              2019-01-09 19:15:52             1.00           0.87   \n",
      "50%              2019-01-16 23:42:18             1.00           1.38   \n",
      "75%              2019-01-24 19:57:18             1.00           2.20   \n",
      "max              2019-01-31 23:59:59             3.00           5.64   \n",
      "std                              NaN             0.55           1.12   \n",
      "\n",
      "       RatecodeID  PULocationID  DOLocationID  payment_type  fare_amount  ...  \\\n",
      "count  6122322.00    6122322.00    6122322.00    6122322.00   6122322.00  ...   \n",
      "mean         1.01        167.81        166.31          1.30         8.95  ...   \n",
      "min          1.00          1.00          1.00          1.00         0.00  ...   \n",
      "25%          1.00        116.00        114.00          1.00         6.00  ...   \n",
      "50%          1.00        163.00        163.00          1.00         8.00  ...   \n",
      "75%          1.00        234.00        234.00          2.00        11.00  ...   \n",
      "max         99.00        265.00        265.00          4.00        24.73  ...   \n",
      "std          0.42         67.05         69.30          0.47         4.03  ...   \n",
      "\n",
      "         mta_tax  tip_amount  tolls_amount  improvement_surcharge  \\\n",
      "count 6122322.00  6122322.00    6122322.00             6122322.00   \n",
      "mean        0.50        1.36          0.00                   0.30   \n",
      "min         0.50        0.00          0.00                   0.30   \n",
      "25%         0.50        0.00          0.00                   0.30   \n",
      "50%         0.50        1.35          0.00                   0.30   \n",
      "75%         0.50        2.06          0.00                   0.30   \n",
      "max         0.50        5.85          0.00                   0.30   \n",
      "std         0.00        1.19          0.00                   0.00   \n",
      "\n",
      "       total_amount  congestion_surcharge                    pickup_date  \\\n",
      "count    6122322.00            2251785.00                        6122322   \n",
      "mean          10.07                  0.00  2019-01-16 12:55:10.899099904   \n",
      "min           -0.82                  0.00            2019-01-01 00:00:00   \n",
      "25%            6.80                  0.00            2019-01-09 00:00:00   \n",
      "50%            9.30                  0.00            2019-01-16 00:00:00   \n",
      "75%           12.30                  0.00            2019-01-24 00:00:00   \n",
      "max           25.80                  2.50            2019-01-31 00:00:00   \n",
      "std            4.05                  0.01                            NaN   \n",
      "\n",
      "                        dropoff_date trip_duration  pickup_hour  \n",
      "count                        6122322    6122322.00   6122322.00  \n",
      "mean   2019-01-16 13:04:44.168653312        803.81        13.81  \n",
      "min              2019-01-01 00:00:00    -170294.00         0.00  \n",
      "25%              2019-01-09 00:00:00        342.00        10.00  \n",
      "50%              2019-01-16 00:00:00        548.00        14.00  \n",
      "75%              2019-01-24 00:00:00        832.00        19.00  \n",
      "max              2019-01-31 00:00:00    2618881.00        23.00  \n",
      "std                              NaN       4161.03         5.85  \n",
      "\n",
      "[8 rows x 21 columns]\n"
     ]
    }
   ],
   "source": [
    "pd.options.display.float_format = '{:.2f}'.format\n",
    "print(trips.describe())  "
   ]
  },
  {
   "cell_type": "code",
   "execution_count": 3,
   "metadata": {},
   "outputs": [
    {
     "name": "stdout",
     "output_type": "stream",
     "text": [
      "<class 'pandas.core.frame.DataFrame'>\n",
      "Index: 6122322 entries, 0 to 7667786\n",
      "Data columns (total 23 columns):\n",
      " #   Column                 Dtype         \n",
      "---  ------                 -----         \n",
      " 0   VendorID               int64         \n",
      " 1   tpep_pickup_datetime   datetime64[ns]\n",
      " 2   tpep_dropoff_datetime  datetime64[ns]\n",
      " 3   passenger_count        int64         \n",
      " 4   trip_distance          float64       \n",
      " 5   RatecodeID             int64         \n",
      " 6   store_and_fwd_flag     object        \n",
      " 7   PULocationID           int64         \n",
      " 8   DOLocationID           int64         \n",
      " 9   payment_type           int64         \n",
      " 10  fare_amount            float64       \n",
      " 11  extra                  float64       \n",
      " 12  mta_tax                float64       \n",
      " 13  tip_amount             float64       \n",
      " 14  tolls_amount           float64       \n",
      " 15  improvement_surcharge  float64       \n",
      " 16  total_amount           float64       \n",
      " 17  congestion_surcharge   float64       \n",
      " 18  pickup_date            datetime64[ns]\n",
      " 19  pickup_time            object        \n",
      " 20  dropoff_date           datetime64[ns]\n",
      " 21  dropoff_time           object        \n",
      " 22  trip_duration          float64       \n",
      "dtypes: datetime64[ns](4), float64(10), int64(6), object(3)\n",
      "memory usage: 1.1+ GB\n"
     ]
    }
   ],
   "source": [
    "trips.info()"
   ]
  },
  {
   "cell_type": "code",
   "execution_count": 11,
   "metadata": {},
   "outputs": [
    {
     "data": {
      "image/png": "[encoded data removed]",
      "text/plain": [
       "<Figure size 1200x600 with 1 Axes>"
      ]
     },
     "metadata": {},
     "output_type": "display_data"
    }
   ],
   "source": [
    "# Initialize a plot\n",
    "fig, ax = plt.subplots(figsize=(12, 6))\n",
    "\n",
    "# Count trips per day\n",
    "daily_trip_counts = trips.groupby('pickup_date').size()\n",
    "\n",
    "# Loop through the daily trip data to plot segments\n",
    "dates = daily_trip_counts.index\n",
    "counts = daily_trip_counts.values\n",
    "\n",
    "for i in range(len(dates) - 1):\n",
    "    # Determine if the current day is a weekend\n",
    "    is_weekend = dates[i].weekday() >= 5  # 5 = Saturday, 6 = Sunday\n",
    "    color = 'red' if is_weekend else 'blue'  # Red for weekends, blue for weekdays\n",
    "\n",
    "    # Plot a line segment\n",
    "    ax.plot(\n",
    "        [dates[i], dates[i + 1]],\n",
    "        [counts[i], counts[i + 1]],\n",
    "        color=color,\n",
    "        linewidth=2,\n",
    "    )\n",
    "\n",
    "ax.set_title('Daily Trip Volume Over Time', fontsize=16)\n",
    "ax.set_xlabel('Date', fontsize=12)\n",
    "ax.set_ylabel('Trip Count', fontsize=12)\n",
    "\n",
    "plt.tight_layout()\n",
    "plt.show()\n"
   ]
  },
  {
   "cell_type": "code",
   "execution_count": 13,
   "metadata": {},
   "outputs": [
    {
     "data": {
      "image/png": "[encoded data removed]",
      "text/plain": [
       "<Figure size 1200x600 with 1 Axes>"
      ]
     },
     "metadata": {},
     "output_type": "display_data"
    }
   ],
   "source": [
    "# Plot the histogram - trip distance distribution\n",
    "\n",
    "trips['trip_distance'].plot(\n",
    "    kind='hist', \n",
    "    #bins=20, # gali tekti pakoreguoti kai atsiras daugiau duomenu\n",
    "    color='blue', \n",
    "    edgecolor='black', \n",
    "    figsize=(12, 6), \n",
    "    title='Trip Distance Distribution'\n",
    ")\n",
    "plt.xlabel('Trip Distance (miles)')\n",
    "plt.ylabel('Frequency')\n",
    "plt.show()\n"
   ]
  },
  {
   "cell_type": "code",
   "execution_count": 34,
   "metadata": {},
   "outputs": [
    {
     "data": {
      "image/png": "[encoded data removed]",
      "text/plain": [
       "<Figure size 800x800 with 1 Axes>"
      ]
     },
     "metadata": {},
     "output_type": "display_data"
    }
   ],
   "source": [
    "import matplotlib.pyplot as plt\n",
    "\n",
    "# Calculate the passenger count distribution\n",
    "passenger_distribution = trips['passenger_count'].value_counts().sort_index()\n",
    "\n",
    "# Create the donut chart\n",
    "fig, ax = plt.subplots(figsize=(8, 8))\n",
    "\n",
    "# Create the pie chart\n",
    "wedges, texts = ax.pie(\n",
    "    passenger_distribution, \n",
    "    labels=[\n",
    "        f\"{label}  ({100 * val / sum(passenger_distribution):.1f}%)\" # Format to \"[count] ([%])\"\n",
    "        for label, val in zip(passenger_distribution.index, passenger_distribution.values)\n",
    "    ],\n",
    "    startangle=90,\n",
    "    colors=plt.cm.Paired.colors,\n",
    "    wedgeprops=dict(width=0.4, edgecolor='w') #Apsibreziamas krastines dydis ir vidus white\n",
    ")\n",
    "\n",
    "# Add a title\n",
    "plt.title('Passenger Count Distribution', fontsize=16)\n",
    "\n",
    "# Show the plot\n",
    "plt.tight_layout()\n",
    "plt.show()\n"
   ]
  },
  {
   "cell_type": "code",
   "execution_count": 3,
   "metadata": {},
   "outputs": [
    {
     "name": "stdout",
     "output_type": "stream",
     "text": [
      "<class 'pandas.core.frame.DataFrame'>\n",
      "RangeIndex: 6122322 entries, 0 to 6122321\n",
      "Data columns (total 31 columns):\n",
      " #   Column                 Dtype         \n",
      "---  ------                 -----         \n",
      " 0   VendorID               int64         \n",
      " 1   tpep_pickup_datetime   datetime64[ns]\n",
      " 2   tpep_dropoff_datetime  datetime64[ns]\n",
      " 3   passenger_count        int64         \n",
      " 4   trip_distance          float64       \n",
      " 5   RatecodeID             int64         \n",
      " 6   store_and_fwd_flag     object        \n",
      " 7   PULocationID           int64         \n",
      " 8   DOLocationID           int64         \n",
      " 9   payment_type           int64         \n",
      " 10  fare_amount            float64       \n",
      " 11  extra                  float64       \n",
      " 12  mta_tax                float64       \n",
      " 13  tip_amount             float64       \n",
      " 14  tolls_amount           float64       \n",
      " 15  improvement_surcharge  float64       \n",
      " 16  total_amount           float64       \n",
      " 17  congestion_surcharge   float64       \n",
      " 18  pickup_date            datetime64[ns]\n",
      " 19  pickup_time            object        \n",
      " 20  dropoff_date           datetime64[ns]\n",
      " 21  dropoff_time           object        \n",
      " 22  trip_duration          float64       \n",
      " 23  pickup_hour            int32         \n",
      " 24  pickup_weekday         object        \n",
      " 25  Borough_pickup         object        \n",
      " 26  pickup_zone            object        \n",
      " 27  service_zone_pickup    object        \n",
      " 28  Borough_dropoff        object        \n",
      " 29  dropoff_zone           object        \n",
      " 30  service_zone_dropoff   object        \n",
      "dtypes: datetime64[ns](4), float64(10), int32(1), int64(6), object(10)\n",
      "memory usage: 1.4+ GB\n",
      "         VendorID tpep_pickup_datetime tpep_dropoff_datetime  passenger_count  \\\n",
      "0               1  2019-01-01 00:46:40   2019-01-01 00:53:20                1   \n",
      "1               1  2019-01-01 00:59:47   2019-01-01 01:18:59                1   \n",
      "2               1  2019-01-01 00:21:28   2019-01-01 00:28:37                1   \n",
      "3               1  2019-01-01 00:32:01   2019-01-01 00:45:39                1   \n",
      "4               1  2019-01-01 00:57:32   2019-01-01 01:09:32                2   \n",
      "...           ...                  ...                   ...              ...   \n",
      "6122317         2  2019-01-31 23:07:31   2019-01-31 23:14:49                3   \n",
      "6122318         2  2019-01-31 23:36:51   2019-01-31 23:46:08                3   \n",
      "6122319         2  2019-01-31 23:04:25   2019-01-31 23:17:09                2   \n",
      "6122320         2  2019-01-31 23:32:34   2019-01-31 23:41:40                1   \n",
      "6122321         2  2019-01-31 23:31:54   2019-01-31 23:50:36                2   \n",
      "\n",
      "         trip_distance  RatecodeID store_and_fwd_flag  PULocationID  \\\n",
      "0                 1.50           1                  N           151   \n",
      "1                 2.60           1                  N           239   \n",
      "2                 1.30           1                  N           163   \n",
      "3                 3.70           1                  N           229   \n",
      "4                 2.10           1                  N           141   \n",
      "...                ...         ...                ...           ...   \n",
      "6122317           1.14           1                  N           186   \n",
      "6122318           1.89           1                  N           100   \n",
      "6122319           4.15           1                  N           186   \n",
      "6122320           1.34           1                  N            68   \n",
      "6122321           4.28           1                  N           186   \n",
      "\n",
      "         DOLocationID  payment_type  ...  dropoff_time  trip_duration  \\\n",
      "0                 239             1  ...      00:53:20         400.00   \n",
      "1                 246             1  ...      01:18:59        1152.00   \n",
      "2                 229             1  ...      00:28:37         429.00   \n",
      "3                   7             1  ...      00:45:39         818.00   \n",
      "4                 234             1  ...      01:09:32         720.00   \n",
      "...               ...           ...  ...           ...            ...   \n",
      "6122317           170             1  ...      23:14:49         438.00   \n",
      "6122318           113             1  ...      23:46:08         557.00   \n",
      "6122319            13             2  ...      23:17:09         764.00   \n",
      "6122320           233             2  ...      23:41:40         546.00   \n",
      "6122321           262             1  ...      23:50:36        1122.00   \n",
      "\n",
      "         pickup_hour  pickup_weekday  Borough_pickup  \\\n",
      "0                  0         Tuesday       Manhattan   \n",
      "1                  0         Tuesday       Manhattan   \n",
      "2                  0         Tuesday       Manhattan   \n",
      "3                  0         Tuesday       Manhattan   \n",
      "4                  0         Tuesday       Manhattan   \n",
      "...              ...             ...             ...   \n",
      "6122317           23        Thursday       Manhattan   \n",
      "6122318           23        Thursday       Manhattan   \n",
      "6122319           23        Thursday       Manhattan   \n",
      "6122320           23        Thursday       Manhattan   \n",
      "6122321           23        Thursday       Manhattan   \n",
      "\n",
      "                           pickup_zone  service_zone_pickup  Borough_dropoff  \\\n",
      "0                     Manhattan Valley          Yellow Zone        Manhattan   \n",
      "1                Upper West Side South          Yellow Zone        Manhattan   \n",
      "2                        Midtown North          Yellow Zone        Manhattan   \n",
      "3        Sutton Place/Turtle Bay North          Yellow Zone           Queens   \n",
      "4                      Lenox Hill West          Yellow Zone        Manhattan   \n",
      "...                                ...                  ...              ...   \n",
      "6122317   Penn Station/Madison Sq West          Yellow Zone        Manhattan   \n",
      "6122318               Garment District          Yellow Zone        Manhattan   \n",
      "6122319   Penn Station/Madison Sq West          Yellow Zone        Manhattan   \n",
      "6122320                   East Chelsea          Yellow Zone        Manhattan   \n",
      "6122321   Penn Station/Madison Sq West          Yellow Zone        Manhattan   \n",
      "\n",
      "                          dropoff_zone service_zone_dropoff  \n",
      "0                Upper West Side South          Yellow Zone  \n",
      "1            West Chelsea/Hudson Yards          Yellow Zone  \n",
      "2        Sutton Place/Turtle Bay North          Yellow Zone  \n",
      "3                              Astoria            Boro Zone  \n",
      "4                             Union Sq          Yellow Zone  \n",
      "...                                ...                  ...  \n",
      "6122317                    Murray Hill          Yellow Zone  \n",
      "6122318        Greenwich Village North          Yellow Zone  \n",
      "6122319              Battery Park City          Yellow Zone  \n",
      "6122320            UN/Turtle Bay South          Yellow Zone  \n",
      "6122321                 Yorkville East          Yellow Zone  \n",
      "\n",
      "[6122322 rows x 31 columns]\n"
     ]
    }
   ],
   "source": [
    "TripsWithZones = ProcessTrips.MergeZones(trips, zones)\n",
    "TripsWithZones.info()\n",
    "print(TripsWithZones)"
   ]
  },
  {
   "cell_type": "code",
   "execution_count": 13,
   "metadata": {},
   "outputs": [
    {
     "data": {
      "image/png": "[encoded data removed]",
      "text/plain": [
       "<Figure size 1500x800 with 1 Axes>"
      ]
     },
     "metadata": {},
     "output_type": "display_data"
    }
   ],
   "source": [
    "import matplotlib.pyplot as plt\n",
    "import matplotlib.lines as mlines\n",
    "\n",
    "# Group data to count connections take top 50\n",
    "top_connections = (\n",
    "    TripsWithZones.groupby(['pickup_zone', 'dropoff_zone'])\n",
    "    .size()\n",
    "    .reset_index(name='count')\n",
    "    .sort_values('count', ascending=False)\n",
    "    .head(25)\n",
    ")\n",
    "\n",
    "# Get unique pickup and dropoff zones\n",
    "pickup_zones = top_connections['pickup_zone'].unique()\n",
    "dropoff_zones = top_connections['dropoff_zone'].unique()\n",
    "\n",
    "# Create the plot\n",
    "fig, ax = plt.subplots(figsize=(15, 8), facecolor='white')\n",
    "fig.suptitle('Popular Pickup and Dropoff Zones', fontsize=15)\n",
    "\n",
    "# Add side lines and zone labels\n",
    "ax.vlines(x=1, ymin=0, ymax=len(pickup_zones) - 1, color='black', linestyles='dotted', alpha=0.7)\n",
    "ax.vlines(x=3, ymin=0, ymax=len(dropoff_zones) - 1, color='black', linestyles='dotted', alpha=0.7)\n",
    "\n",
    "for idx, zone in enumerate(pickup_zones):\n",
    "    ax.text(0.8, idx, zone, ha='right', va='center', fontsize=14)\n",
    "for idx, zone in enumerate(dropoff_zones):\n",
    "    ax.text(3.2, idx, zone, ha='left', va='center', fontsize=14)\n",
    "\n",
    "# Draw lines for top connections\n",
    "for _, row in top_connections.iterrows():\n",
    "    start_idx = list(pickup_zones).index(row['pickup_zone'])\n",
    "    end_idx = list(dropoff_zones).index(row['dropoff_zone'])\n",
    "    ax.add_line(mlines.Line2D(\n",
    "        [1, 3], [start_idx, end_idx],\n",
    "        color='black', alpha=0.6,\n",
    "        linewidth=1 + 2 * (row['count'] / top_connections['count'].max())\n",
    "    ))\n",
    "\n",
    "# Clean up axes\n",
    "ax.set_xlim(0, 4)\n",
    "ax.set_ylim(-0.5, max(len(pickup_zones), len(dropoff_zones)) - 0.5)\n",
    "ax.set_xticks([1, 3])\n",
    "ax.set_xticklabels(['Pick-up', 'Drop-off'], fontsize=15)\n",
    "ax.tick_params(left=False, bottom=False, labelleft=False)\n",
    "for spine in ['top', 'bottom', 'left', 'right']:\n",
    "    ax.spines[spine].set_visible(False)\n",
    "\n",
    "plt.tight_layout()\n",
    "plt.show()\n"
   ]
  },
  {
   "cell_type": "code",
   "execution_count": 30,
   "metadata": {},
   "outputs": [
    {
     "data": {
      "application/vnd.plotly.v1+json": {
       "config": {
        "plotlyServerURL": "https://plot.ly"
       },
       "data": [
        {
         "hoverinfo": "text",
         "line": {
          "color": "black",
          "width": 3
         },
         "marker": {
          "color": "black",
          "size": 6
         },
         "mode": "lines+markers",
         "text": "NV → NV<br>Trips: 116944",
         "type": "scatter",
         "x": [
          1,
          3
         ],
         "y": [
          0,
          0
         ]
        },
        {
         "hoverinfo": "text",
         "line": {
          "color": "black",
          "width": 1.8013237104939117
         },
         "marker": {
          "color": "black",
          "size": 6
         },
         "mode": "lines+markers",
         "text": "Upper East Side South → Upper East Side North<br>Trips: 46855",
         "type": "scatter",
         "x": [
          1,
          3
         ],
         "y": [
          1,
          1
         ]
        },
        {
         "hoverinfo": "text",
         "line": {
          "color": "black",
          "width": 1.740799014913121
         },
         "marker": {
          "color": "black",
          "size": 6
         },
         "mode": "lines+markers",
         "text": "Upper East Side North → Upper East Side North<br>Trips: 43316",
         "type": "scatter",
         "x": [
          1,
          3
         ],
         "y": [
          2,
          1
         ]
        },
        {
         "hoverinfo": "text",
         "line": {
          "color": "black",
          "width": 1.6795902312217814
         },
         "marker": {
          "color": "black",
          "size": 6
         },
         "mode": "lines+markers",
         "text": "Upper East Side North → Upper East Side South<br>Trips: 39737",
         "type": "scatter",
         "x": [
          1,
          3
         ],
         "y": [
          2,
          2
         ]
        },
        {
         "hoverinfo": "text",
         "line": {
          "color": "black",
          "width": 1.6201258722123408
         },
         "marker": {
          "color": "black",
          "size": 6
         },
         "mode": "lines+markers",
         "text": "Upper East Side South → Upper East Side South<br>Trips: 36260",
         "type": "scatter",
         "x": [
          1,
          3
         ],
         "y": [
          1,
          2
         ]
        },
        {
         "hoverinfo": "text",
         "line": {
          "color": "black",
          "width": 1.3981050759337803
         },
         "marker": {
          "color": "black",
          "size": 6
         },
         "mode": "lines+markers",
         "text": "Upper West Side South → Upper West Side North<br>Trips: 23278",
         "type": "scatter",
         "x": [
          1,
          3
         ],
         "y": [
          3,
          3
         ]
        },
        {
         "hoverinfo": "text",
         "line": {
          "color": "black",
          "width": 1.361506362019428
         },
         "marker": {
          "color": "black",
          "size": 6
         },
         "mode": "lines+markers",
         "text": "Upper West Side South → Lincoln Square East<br>Trips: 21138",
         "type": "scatter",
         "x": [
          1,
          3
         ],
         "y": [
          3,
          4
         ]
        },
        {
         "hoverinfo": "text",
         "line": {
          "color": "black",
          "width": 1.3497058421124641
         },
         "marker": {
          "color": "black",
          "size": 6
         },
         "mode": "lines+markers",
         "text": "Lincoln Square East → Upper West Side South<br>Trips: 20448",
         "type": "scatter",
         "x": [
          1,
          3
         ],
         "y": [
          4,
          5
         ]
        },
        {
         "hoverinfo": "text",
         "line": {
          "color": "black",
          "width": 1.3437884799562183
         },
         "marker": {
          "color": "black",
          "size": 6
         },
         "mode": "lines+markers",
         "text": "Upper West Side North → Upper West Side South<br>Trips: 20102",
         "type": "scatter",
         "x": [
          1,
          3
         ],
         "y": [
          5,
          5
         ]
        },
        {
         "hoverinfo": "text",
         "line": {
          "color": "black",
          "width": 1.3180154603912984
         },
         "marker": {
          "color": "black",
          "size": 6
         },
         "mode": "lines+markers",
         "text": "Lenox Hill West → Upper East Side North<br>Trips: 18595",
         "type": "scatter",
         "x": [
          1,
          3
         ],
         "y": [
          6,
          1
         ]
        },
        {
         "hoverinfo": "text",
         "line": {
          "color": "black",
          "width": 1.3099432206868244
         },
         "marker": {
          "color": "black",
          "size": 6
         },
         "mode": "lines+markers",
         "text": "Upper East Side South → Midtown East<br>Trips: 18123",
         "type": "scatter",
         "x": [
          1,
          3
         ],
         "y": [
          1,
          6
         ]
        },
        {
         "hoverinfo": "text",
         "line": {
          "color": "black",
          "width": 1.3047954576549459
         },
         "marker": {
          "color": "black",
          "size": 6
         },
         "mode": "lines+markers",
         "text": "Midtown Center → Upper East Side South<br>Trips: 17822",
         "type": "scatter",
         "x": [
          1,
          3
         ],
         "y": [
          7,
          2
         ]
        },
        {
         "hoverinfo": "text",
         "line": {
          "color": "black",
          "width": 1.3017854699685318
         },
         "marker": {
          "color": "black",
          "size": 6
         },
         "mode": "lines+markers",
         "text": "Yorkville West → Upper East Side North<br>Trips: 17646",
         "type": "scatter",
         "x": [
          1,
          3
         ],
         "y": [
          8,
          1
         ]
        },
        {
         "hoverinfo": "text",
         "line": {
          "color": "black",
          "width": 1.2964666849090163
         },
         "marker": {
          "color": "black",
          "size": 6
         },
         "mode": "lines+markers",
         "text": "Upper West Side South → Upper West Side South<br>Trips: 17335",
         "type": "scatter",
         "x": [
          1,
          3
         ],
         "y": [
          3,
          5
         ]
        },
        {
         "hoverinfo": "text",
         "line": {
          "color": "black",
          "width": 1.2956115747708306
         },
         "marker": {
          "color": "black",
          "size": 6
         },
         "mode": "lines+markers",
         "text": "Upper East Side South → Midtown Center<br>Trips: 17285",
         "type": "scatter",
         "x": [
          1,
          3
         ],
         "y": [
          1,
          7
         ]
        },
        {
         "hoverinfo": "text",
         "line": {
          "color": "black",
          "width": 1.2939013544944589
         },
         "marker": {
          "color": "black",
          "size": 6
         },
         "mode": "lines+markers",
         "text": "Penn Station/Madison Sq West → Midtown Center<br>Trips: 17185",
         "type": "scatter",
         "x": [
          1,
          3
         ],
         "y": [
          9,
          7
         ]
        },
        {
         "hoverinfo": "text",
         "line": {
          "color": "black",
          "width": 1.289796825831167
         },
         "marker": {
          "color": "black",
          "size": 6
         },
         "mode": "lines+markers",
         "text": "Upper East Side South → Lenox Hill West<br>Trips: 16945",
         "type": "scatter",
         "x": [
          1,
          3
         ],
         "y": [
          1,
          8
         ]
        },
        {
         "hoverinfo": "text",
         "line": {
          "color": "black",
          "width": 1.2854528663291833
         },
         "marker": {
          "color": "black",
          "size": 6
         },
         "mode": "lines+markers",
         "text": "Penn Station/Madison Sq West → Times Sq/Theatre District<br>Trips: 16691",
         "type": "scatter",
         "x": [
          1,
          3
         ],
         "y": [
          9,
          9
         ]
        },
        {
         "hoverinfo": "text",
         "line": {
          "color": "black",
          "width": 1.2837768504583391
         },
         "marker": {
          "color": "black",
          "size": 6
         },
         "mode": "lines+markers",
         "text": "Times Sq/Theatre District → Penn Station/Madison Sq West<br>Trips: 16593",
         "type": "scatter",
         "x": [
          1,
          3
         ],
         "y": [
          10,
          10
         ]
        },
        {
         "hoverinfo": "text",
         "line": {
          "color": "black",
          "width": 1.2803906143111232
         },
         "marker": {
          "color": "black",
          "size": 6
         },
         "mode": "lines+markers",
         "text": "Lenox Hill West → Upper East Side South<br>Trips: 16395",
         "type": "scatter",
         "x": [
          1,
          3
         ],
         "y": [
          6,
          2
         ]
        },
        {
         "hoverinfo": "text",
         "line": {
          "color": "black",
          "width": 1.274199616910658
         },
         "marker": {
          "color": "black",
          "size": 6
         },
         "mode": "lines+markers",
         "text": "Clinton East → Clinton East<br>Trips: 16033",
         "type": "scatter",
         "x": [
          1,
          3
         ],
         "y": [
          11,
          11
         ]
        },
        {
         "hoverinfo": "text",
         "line": {
          "color": "black",
          "width": 1.274079901491312
         },
         "marker": {
          "color": "black",
          "size": 6
         },
         "mode": "lines+markers",
         "text": "Upper East Side North → Lenox Hill West<br>Trips: 16026",
         "type": "scatter",
         "x": [
          1,
          3
         ],
         "y": [
          2,
          8
         ]
        },
        {
         "hoverinfo": "text",
         "line": {
          "color": "black",
          "width": 1.266794363113969
         },
         "marker": {
          "color": "black",
          "size": 6
         },
         "mode": "lines+markers",
         "text": "Yorkville West → Lenox Hill West<br>Trips: 15600",
         "type": "scatter",
         "x": [
          1,
          3
         ],
         "y": [
          8,
          8
         ]
        },
        {
         "hoverinfo": "text",
         "line": {
          "color": "black",
          "width": 1.2557634423313724
         },
         "marker": {
          "color": "black",
          "size": 6
         },
         "mode": "lines+markers",
         "text": "Upper East Side North → Yorkville West<br>Trips: 14955",
         "type": "scatter",
         "x": [
          1,
          3
         ],
         "y": [
          2,
          12
         ]
        },
        {
         "hoverinfo": "text",
         "line": {
          "color": "black",
          "width": 1.2529757832808865
         },
         "marker": {
          "color": "black",
          "size": 6
         },
         "mode": "lines+markers",
         "text": "Union Sq → Murray Hill<br>Trips: 14792",
         "type": "scatter",
         "x": [
          1,
          3
         ],
         "y": [
          12,
          13
         ]
        },
        {
         "hoverinfo": "skip",
         "mode": "text",
         "showlegend": false,
         "text": [
          "NV"
         ],
         "textfont": {
          "size": 12
         },
         "textposition": "middle right",
         "type": "scatter",
         "x": [
          0.7
         ],
         "y": [
          0
         ]
        },
        {
         "hoverinfo": "skip",
         "mode": "text",
         "showlegend": false,
         "text": [
          "Upper East Side South"
         ],
         "textfont": {
          "size": 12
         },
         "textposition": "middle right",
         "type": "scatter",
         "x": [
          0.7
         ],
         "y": [
          1
         ]
        },
        {
         "hoverinfo": "skip",
         "mode": "text",
         "showlegend": false,
         "text": [
          "Upper East Side North"
         ],
         "textfont": {
          "size": 12
         },
         "textposition": "middle right",
         "type": "scatter",
         "x": [
          0.7
         ],
         "y": [
          2
         ]
        },
        {
         "hoverinfo": "skip",
         "mode": "text",
         "showlegend": false,
         "text": [
          "Upper West Side South"
         ],
         "textfont": {
          "size": 12
         },
         "textposition": "middle right",
         "type": "scatter",
         "x": [
          0.7
         ],
         "y": [
          3
         ]
        },
        {
         "hoverinfo": "skip",
         "mode": "text",
         "showlegend": false,
         "text": [
          "Lincoln Square East"
         ],
         "textfont": {
          "size": 12
         },
         "textposition": "middle right",
         "type": "scatter",
         "x": [
          0.7
         ],
         "y": [
          4
         ]
        },
        {
         "hoverinfo": "skip",
         "mode": "text",
         "showlegend": false,
         "text": [
          "Upper West Side North"
         ],
         "textfont": {
          "size": 12
         },
         "textposition": "middle right",
         "type": "scatter",
         "x": [
          0.7
         ],
         "y": [
          5
         ]
        },
        {
         "hoverinfo": "skip",
         "mode": "text",
         "showlegend": false,
         "text": [
          "Lenox Hill West"
         ],
         "textfont": {
          "size": 12
         },
         "textposition": "middle right",
         "type": "scatter",
         "x": [
          0.7
         ],
         "y": [
          6
         ]
        },
        {
         "hoverinfo": "skip",
         "mode": "text",
         "showlegend": false,
         "text": [
          "Midtown Center"
         ],
         "textfont": {
          "size": 12
         },
         "textposition": "middle right",
         "type": "scatter",
         "x": [
          0.7
         ],
         "y": [
          7
         ]
        },
        {
         "hoverinfo": "skip",
         "mode": "text",
         "showlegend": false,
         "text": [
          "Yorkville West"
         ],
         "textfont": {
          "size": 12
         },
         "textposition": "middle right",
         "type": "scatter",
         "x": [
          0.7
         ],
         "y": [
          8
         ]
        },
        {
         "hoverinfo": "skip",
         "mode": "text",
         "showlegend": false,
         "text": [
          "Penn Station/Madison Sq West"
         ],
         "textfont": {
          "size": 12
         },
         "textposition": "middle right",
         "type": "scatter",
         "x": [
          0.7
         ],
         "y": [
          9
         ]
        },
        {
         "hoverinfo": "skip",
         "mode": "text",
         "showlegend": false,
         "text": [
          "Times Sq/Theatre District"
         ],
         "textfont": {
          "size": 12
         },
         "textposition": "middle right",
         "type": "scatter",
         "x": [
          0.7
         ],
         "y": [
          10
         ]
        },
        {
         "hoverinfo": "skip",
         "mode": "text",
         "showlegend": false,
         "text": [
          "Clinton East"
         ],
         "textfont": {
          "size": 12
         },
         "textposition": "middle right",
         "type": "scatter",
         "x": [
          0.7
         ],
         "y": [
          11
         ]
        },
        {
         "hoverinfo": "skip",
         "mode": "text",
         "showlegend": false,
         "text": [
          "Union Sq"
         ],
         "textfont": {
          "size": 12
         },
         "textposition": "middle right",
         "type": "scatter",
         "x": [
          0.7
         ],
         "y": [
          12
         ]
        },
        {
         "hoverinfo": "skip",
         "mode": "text",
         "showlegend": false,
         "text": [
          "NV"
         ],
         "textfont": {
          "size": 12
         },
         "textposition": "middle left",
         "type": "scatter",
         "x": [
          4
         ],
         "y": [
          0
         ]
        },
        {
         "hoverinfo": "skip",
         "mode": "text",
         "showlegend": false,
         "text": [
          "Upper East Side North"
         ],
         "textfont": {
          "size": 12
         },
         "textposition": "middle left",
         "type": "scatter",
         "x": [
          4
         ],
         "y": [
          1
         ]
        },
        {
         "hoverinfo": "skip",
         "mode": "text",
         "showlegend": false,
         "text": [
          "Upper East Side South"
         ],
         "textfont": {
          "size": 12
         },
         "textposition": "middle left",
         "type": "scatter",
         "x": [
          4
         ],
         "y": [
          2
         ]
        },
        {
         "hoverinfo": "skip",
         "mode": "text",
         "showlegend": false,
         "text": [
          "Upper West Side North"
         ],
         "textfont": {
          "size": 12
         },
         "textposition": "middle left",
         "type": "scatter",
         "x": [
          4
         ],
         "y": [
          3
         ]
        },
        {
         "hoverinfo": "skip",
         "mode": "text",
         "showlegend": false,
         "text": [
          "Lincoln Square East"
         ],
         "textfont": {
          "size": 12
         },
         "textposition": "middle left",
         "type": "scatter",
         "x": [
          4
         ],
         "y": [
          4
         ]
        },
        {
         "hoverinfo": "skip",
         "mode": "text",
         "showlegend": false,
         "text": [
          "Upper West Side South"
         ],
         "textfont": {
          "size": 12
         },
         "textposition": "middle left",
         "type": "scatter",
         "x": [
          4
         ],
         "y": [
          5
         ]
        },
        {
         "hoverinfo": "skip",
         "mode": "text",
         "showlegend": false,
         "text": [
          "Midtown East"
         ],
         "textfont": {
          "size": 12
         },
         "textposition": "middle left",
         "type": "scatter",
         "x": [
          4
         ],
         "y": [
          6
         ]
        },
        {
         "hoverinfo": "skip",
         "mode": "text",
         "showlegend": false,
         "text": [
          "Midtown Center"
         ],
         "textfont": {
          "size": 12
         },
         "textposition": "middle left",
         "type": "scatter",
         "x": [
          4
         ],
         "y": [
          7
         ]
        },
        {
         "hoverinfo": "skip",
         "mode": "text",
         "showlegend": false,
         "text": [
          "Lenox Hill West"
         ],
         "textfont": {
          "size": 12
         },
         "textposition": "middle left",
         "type": "scatter",
         "x": [
          4
         ],
         "y": [
          8
         ]
        },
        {
         "hoverinfo": "skip",
         "mode": "text",
         "showlegend": false,
         "text": [
          "Times Sq/Theatre District"
         ],
         "textfont": {
          "size": 12
         },
         "textposition": "middle left",
         "type": "scatter",
         "x": [
          4
         ],
         "y": [
          9
         ]
        },
        {
         "hoverinfo": "skip",
         "mode": "text",
         "showlegend": false,
         "text": [
          "Penn Station/Madison Sq West"
         ],
         "textfont": {
          "size": 12
         },
         "textposition": "middle left",
         "type": "scatter",
         "x": [
          4
         ],
         "y": [
          10
         ]
        },
        {
         "hoverinfo": "skip",
         "mode": "text",
         "showlegend": false,
         "text": [
          "Clinton East"
         ],
         "textfont": {
          "size": 12
         },
         "textposition": "middle left",
         "type": "scatter",
         "x": [
          4
         ],
         "y": [
          11
         ]
        },
        {
         "hoverinfo": "skip",
         "mode": "text",
         "showlegend": false,
         "text": [
          "Yorkville West"
         ],
         "textfont": {
          "size": 12
         },
         "textposition": "middle left",
         "type": "scatter",
         "x": [
          4
         ],
         "y": [
          12
         ]
        },
        {
         "hoverinfo": "skip",
         "mode": "text",
         "showlegend": false,
         "text": [
          "Murray Hill"
         ],
         "textfont": {
          "size": 12
         },
         "textposition": "middle left",
         "type": "scatter",
         "x": [
          4
         ],
         "y": [
          13
         ]
        }
       ],
       "layout": {
        "margin": {
         "l": 150,
         "r": 150
        },
        "plot_bgcolor": "white",
        "showlegend": false,
        "template": {
         "data": {
          "candlestick": [
           {
            "decreasing": {
             "line": {
              "color": "#000033"
             }
            },
            "increasing": {
             "line": {
              "color": "#000032"
             }
            },
            "type": "candlestick"
           }
          ],
          "contour": [
           {
            "colorscale": [
             [
              0,
              "#000011"
             ],
             [
              0.1111111111111111,
              "#000012"
             ],
             [
              0.2222222222222222,
              "#000013"
             ],
             [
              0.3333333333333333,
              "#000014"
             ],
             [
              0.4444444444444444,
              "#000015"
             ],
             [
              0.5555555555555556,
              "#000016"
             ],
             [
              0.6666666666666666,
              "#000017"
             ],
             [
              0.7777777777777778,
              "#000018"
             ],
             [
              0.8888888888888888,
              "#000019"
             ],
             [
              1,
              "#000020"
             ]
            ],
            "type": "contour"
           }
          ],
          "contourcarpet": [
           {
            "colorscale": [
             [
              0,
              "#000011"
             ],
             [
              0.1111111111111111,
              "#000012"
             ],
             [
              0.2222222222222222,
              "#000013"
             ],
             [
              0.3333333333333333,
              "#000014"
             ],
             [
              0.4444444444444444,
              "#000015"
             ],
             [
              0.5555555555555556,
              "#000016"
             ],
             [
              0.6666666666666666,
              "#000017"
             ],
             [
              0.7777777777777778,
              "#000018"
             ],
             [
              0.8888888888888888,
              "#000019"
             ],
             [
              1,
              "#000020"
             ]
            ],
            "type": "contourcarpet"
           }
          ],
          "heatmap": [
           {
            "colorscale": [
             [
              0,
              "#000011"
             ],
             [
              0.1111111111111111,
              "#000012"
             ],
             [
              0.2222222222222222,
              "#000013"
             ],
             [
              0.3333333333333333,
              "#000014"
             ],
             [
              0.4444444444444444,
              "#000015"
             ],
             [
              0.5555555555555556,
              "#000016"
             ],
             [
              0.6666666666666666,
              "#000017"
             ],
             [
              0.7777777777777778,
              "#000018"
             ],
             [
              0.8888888888888888,
              "#000019"
             ],
             [
              1,
              "#000020"
             ]
            ],
            "type": "heatmap"
           }
          ],
          "histogram2d": [
           {
            "colorscale": [
             [
              0,
              "#000011"
             ],
             [
              0.1111111111111111,
              "#000012"
             ],
             [
              0.2222222222222222,
              "#000013"
             ],
             [
              0.3333333333333333,
              "#000014"
             ],
             [
              0.4444444444444444,
              "#000015"
             ],
             [
              0.5555555555555556,
              "#000016"
             ],
             [
              0.6666666666666666,
              "#000017"
             ],
             [
              0.7777777777777778,
              "#000018"
             ],
             [
              0.8888888888888888,
              "#000019"
             ],
             [
              1,
              "#000020"
             ]
            ],
            "type": "histogram2d"
           }
          ],
          "icicle": [
           {
            "textfont": {
             "color": "white"
            },
            "type": "icicle"
           }
          ],
          "sankey": [
           {
            "textfont": {
             "color": "#000036"
            },
            "type": "sankey"
           }
          ],
          "scatter": [
           {
            "marker": {
             "line": {
              "width": 0
             }
            },
            "type": "scatter"
           }
          ],
          "table": [
           {
            "cells": {
             "fill": {
              "color": "#000038"
             },
             "font": {
              "color": "#000037"
             },
             "line": {
              "color": "#000039"
             }
            },
            "header": {
             "fill": {
              "color": "#000040"
             },
             "font": {
              "color": "#000036"
             },
             "line": {
              "color": "#000039"
             }
            },
            "type": "table"
           }
          ],
          "waterfall": [
           {
            "connector": {
             "line": {
              "color": "#000036",
              "width": 2
             }
            },
            "decreasing": {
             "marker": {
              "color": "#000033"
             }
            },
            "increasing": {
             "marker": {
              "color": "#000032"
             }
            },
            "totals": {
             "marker": {
              "color": "#000034"
             }
            },
            "type": "waterfall"
           }
          ]
         },
         "layout": {
          "coloraxis": {
           "colorscale": [
            [
             0,
             "#000011"
            ],
            [
             0.1111111111111111,
             "#000012"
            ],
            [
             0.2222222222222222,
             "#000013"
            ],
            [
             0.3333333333333333,
             "#000014"
            ],
            [
             0.4444444444444444,
             "#000015"
            ],
            [
             0.5555555555555556,
             "#000016"
            ],
            [
             0.6666666666666666,
             "#000017"
            ],
            [
             0.7777777777777778,
             "#000018"
            ],
            [
             0.8888888888888888,
             "#000019"
            ],
            [
             1,
             "#000020"
            ]
           ]
          },
          "colorscale": {
           "diverging": [
            [
             0,
             "#000021"
            ],
            [
             0.1,
             "#000022"
            ],
            [
             0.2,
             "#000023"
            ],
            [
             0.3,
             "#000024"
            ],
            [
             0.4,
             "#000025"
            ],
            [
             0.5,
             "#000026"
            ],
            [
             0.6,
             "#000027"
            ],
            [
             0.7,
             "#000028"
            ],
            [
             0.8,
             "#000029"
            ],
            [
             0.9,
             "#000030"
            ],
            [
             1,
             "#000031"
            ]
           ],
           "sequential": [
            [
             0,
             "#000011"
            ],
            [
             0.1111111111111111,
             "#000012"
            ],
            [
             0.2222222222222222,
             "#000013"
            ],
            [
             0.3333333333333333,
             "#000014"
            ],
            [
             0.4444444444444444,
             "#000015"
            ],
            [
             0.5555555555555556,
             "#000016"
            ],
            [
             0.6666666666666666,
             "#000017"
            ],
            [
             0.7777777777777778,
             "#000018"
            ],
            [
             0.8888888888888888,
             "#000019"
            ],
            [
             1,
             "#000020"
            ]
           ],
           "sequentialminus": [
            [
             0,
             "#000011"
            ],
            [
             0.1111111111111111,
             "#000012"
            ],
            [
             0.2222222222222222,
             "#000013"
            ],
            [
             0.3333333333333333,
             "#000014"
            ],
            [
             0.4444444444444444,
             "#000015"
            ],
            [
             0.5555555555555556,
             "#000016"
            ],
            [
             0.6666666666666666,
             "#000017"
            ],
            [
             0.7777777777777778,
             "#000018"
            ],
            [
             0.8888888888888888,
             "#000019"
            ],
            [
             1,
             "#000020"
            ]
           ]
          },
          "colorway": [
           "#000001",
           "#000002",
           "#000003",
           "#000004",
           "#000005",
           "#000006",
           "#000007",
           "#000008",
           "#000009",
           "#000010"
          ]
         }
        },
        "title": {
         "text": "Popular Pickup and Dropoff Zones"
        },
        "xaxis": {
         "showgrid": false,
         "ticktext": [
          "Pick-up",
          "Drop-off"
         ],
         "tickvals": [
          1,
          3
         ],
         "zeroline": false
        },
        "yaxis": {
         "showgrid": false,
         "showticklabels": false,
         "zeroline": false
        }
       }
      }
     },
     "metadata": {},
     "output_type": "display_data"
    }
   ],
   "source": [
    "import pandas as pd\n",
    "import plotly.graph_objects as go\n",
    "import streamlit as st\n",
    "\n",
    "# Group data to count connections and take top 25\n",
    "top_connections = (\n",
    "    TripsWithZones.groupby(['pickup_zone', 'dropoff_zone'])\n",
    "    .size()\n",
    "    .reset_index(name='count')\n",
    "    .sort_values('count', ascending=False)\n",
    "    .head(25)\n",
    ")\n",
    "\n",
    "# Get unique pickup and dropoff zones\n",
    "pickup_zones = top_connections['pickup_zone'].unique()\n",
    "dropoff_zones = top_connections['dropoff_zone'].unique()\n",
    "\n",
    "# Create Plotly figure\n",
    "fig = go.Figure()\n",
    "\n",
    "# Add lines for top connections with hover labels\n",
    "for _, row in top_connections.iterrows():\n",
    "    start_idx = list(pickup_zones).index(row['pickup_zone'])\n",
    "    end_idx = list(dropoff_zones).index(row['dropoff_zone'])\n",
    "    count = row['count']\n",
    "    \n",
    "    # Add a trace for each connection\n",
    "    fig.add_trace(go.Scatter(\n",
    "        x=[1, 3],\n",
    "        y=[start_idx, end_idx],\n",
    "        mode='lines+markers',\n",
    "        line=dict(\n",
    "            width=1 + 2 * (count / top_connections['count'].max()),  # Line thickness\n",
    "            color='black'\n",
    "        ),\n",
    "        hoverinfo='text',\n",
    "        text=f\"{row['pickup_zone']} → {row['dropoff_zone']}<br>Trips: {count}\",\n",
    "        marker=dict(size=6, color='black')  # Markers at endpoints\n",
    "    ))\n",
    "\n",
    "# Add labels for pickup zones on the far left (outside the graph)\n",
    "for idx, zone in enumerate(pickup_zones):\n",
    "    fig.add_trace(go.Scatter(\n",
    "        x=[0.7],  # Move further to the left\n",
    "        y=[idx],\n",
    "        mode='text',\n",
    "        text=[zone],\n",
    "        textposition='middle right',  # Ensure proper alignment\n",
    "        hoverinfo='skip',\n",
    "        showlegend=False,\n",
    "        textfont=dict(size=12)\n",
    "    ))\n",
    "\n",
    "# Add labels for dropoff zones on the far right (outside the graph)\n",
    "for idx, zone in enumerate(dropoff_zones):\n",
    "    fig.add_trace(go.Scatter(\n",
    "        x=[4],  # Move further to the right\n",
    "        y=[idx],\n",
    "        mode='text',\n",
    "        text=[zone],\n",
    "        textposition='middle left',  # Ensure proper alignment\n",
    "        hoverinfo='skip',\n",
    "        showlegend=False,\n",
    "        textfont=dict(size=12)\n",
    "    ))\n",
    "\n",
    "# Customize the layout\n",
    "fig.update_layout(\n",
    "    title=\"Popular Pickup and Dropoff Zones\",\n",
    "    xaxis=dict(\n",
    "        tickvals=[1, 3],\n",
    "        ticktext=['Pick-up', 'Drop-off'],\n",
    "        showgrid=False,\n",
    "        zeroline=False\n",
    "    ),\n",
    "    yaxis=dict(\n",
    "        showgrid=False,\n",
    "        zeroline=False,\n",
    "        showticklabels=False  # Hide default tick labels for clarity\n",
    "    ),\n",
    "    showlegend=False,\n",
    "    plot_bgcolor='white',\n",
    "    margin=dict(l=150, r=150)  # Add more space for labels\n",
    ")\n",
    "\n",
    "# Display in Streamlit\n",
    "fig.show()\n"
   ]
  },
  {
   "cell_type": "code",
   "execution_count": 38,
   "metadata": {},
   "outputs": [
    {
     "data": {
      "image/png": "[encoded data removed]",
      "text/plain": [
       "<Figure size 400x200 with 1 Axes>"
      ]
     },
     "metadata": {},
     "output_type": "display_data"
    },
    {
     "data": {
      "image/png": "[encoded data removed]",
      "text/plain": [
       "<Figure size 400x200 with 1 Axes>"
      ]
     },
     "metadata": {},
     "output_type": "display_data"
    },
    {
     "data": {
      "image/png": "[encoded data removed]",
      "text/plain": [
       "<Figure size 400x200 with 1 Axes>"
      ]
     },
     "metadata": {},
     "output_type": "display_data"
    },
    {
     "data": {
      "image/png": "[encoded data removed]",
      "text/plain": [
       "<Figure size 400x200 with 1 Axes>"
      ]
     },
     "metadata": {},
     "output_type": "display_data"
    }
   ],
   "source": [
    "import pandas as pd\n",
    "import matplotlib.pyplot as plt\n",
    "\n",
    "# Calculate the required metrics\n",
    "total_trips = len(trips)\n",
    "average_trip_distance = trips[\"trip_distance\"].mean()\n",
    "average_fare_amount = trips[\"fare_amount\"].mean()\n",
    "# most_common_payment_type = trips[\"payment_type\"].mode()[0]\n",
    "average_passenger_count = trips[\"passenger_count\"].mean()\n",
    "\n",
    "# Define a function to create card visuals\n",
    "def create_card(title, value, unit=None, color=\"skyblue\", is_int=False):\n",
    "    fig, ax = plt.subplots(figsize=(4, 2))\n",
    "    ax.set_facecolor(color)\n",
    "    ax.text(0.5, 0.7, title, fontsize=14, ha=\"center\", va=\"center\", color=\"black\")\n",
    "    \n",
    "    # Format value based on is_int\n",
    "    formatted_value = f\"{int(value):,}\" if is_int else f\"{value:,.2f}\"\n",
    "    ax.text(0.5, 0.4, formatted_value, \n",
    "            fontsize=18, ha=\"center\", va=\"center\", color=\"black\", fontweight=\"bold\")\n",
    "    \n",
    "    if unit:\n",
    "        ax.text(0.5, 0.2, unit, fontsize=12, ha=\"center\", va=\"center\", color=\"black\")\n",
    "    ax.axis(\"off\")\n",
    "    plt.show()\n",
    "\n",
    "#Display matrics\n",
    "create_card(\"Total Trips\", total_trips, unit=\"Trips\", is_int=True)\n",
    "create_card(\"Avg. Trip Distance\", average_trip_distance, unit=\"miles\")\n",
    "create_card(\"Avg. Fare Amount\", average_fare_amount, unit=\"USD\")\n",
    "# create_card(\"Most Common Payment\", most_common_payment_type)\n",
    "create_card(\"Avg. Passenger Count\", average_passenger_count, unit=\"Passengers\")\n"
   ]
  },
  {
   "cell_type": "code",
   "execution_count": 42,
   "metadata": {},
   "outputs": [
    {
     "data": {
      "application/vnd.plotly.v1+json": {
       "config": {
        "plotlyServerURL": "https://plot.ly"
       },
       "data": [
        {
         "coloraxis": "coloraxis",
         "histfunc": "sum",
         "hovertemplate": "Hour of Day=%{x}<br>Y-Axis=%{y}<br>sum of Trip Count=%{z}<extra></extra>",
         "name": "",
         "type": "histogram2d",
         "x": [
          0,
          1,
          2,
          3,
          4,
          5,
          6,
          7,
          8,
          9,
          10,
          11,
          12,
          13,
          14,
          15,
          16,
          17,
          18,
          19,
          20,
          21,
          22,
          23,
          0,
          1,
          2,
          3,
          4,
          5,
          6,
          7,
          8,
          9,
          10,
          11,
          12,
          13,
          14,
          15,
          16,
          17,
          18,
          19,
          20,
          21,
          22,
          23,
          0,
          1,
          2,
          3,
          4,
          5,
          6,
          7,
          8,
          9,
          10,
          11,
          12,
          13,
          14,
          15,
          16,
          17,
          18,
          19,
          20,
          21,
          22,
          23,
          0,
          1,
          2,
          3,
          4,
          5,
          6,
          7,
          8,
          9,
          10,
          11,
          12,
          13,
          14,
          15,
          16,
          17,
          18,
          19,
          20,
          21,
          22,
          23,
          0,
          1,
          2,
          3,
          4,
          5,
          6,
          7,
          8,
          9,
          10,
          11,
          12,
          13,
          14,
          15,
          16,
          17,
          18,
          19,
          20,
          21,
          22,
          23,
          0,
          1,
          2,
          3,
          4,
          5,
          6,
          7,
          8,
          9,
          10,
          11,
          12,
          13,
          14,
          15,
          16,
          17,
          18,
          19,
          20,
          21,
          22,
          23,
          0,
          1,
          2,
          3,
          4,
          5,
          6,
          7,
          8,
          9,
          10,
          11,
          12,
          13,
          14,
          15,
          16,
          17,
          18,
          19,
          20,
          21,
          22,
          23
         ],
         "xaxis": "x",
         "xbingroup": "x",
         "y": [
          "Friday",
          "Friday",
          "Friday",
          "Friday",
          "Friday",
          "Friday",
          "Friday",
          "Friday",
          "Friday",
          "Friday",
          "Friday",
          "Friday",
          "Friday",
          "Friday",
          "Friday",
          "Friday",
          "Friday",
          "Friday",
          "Friday",
          "Friday",
          "Friday",
          "Friday",
          "Friday",
          "Friday",
          "Monday",
          "Monday",
          "Monday",
          "Monday",
          "Monday",
          "Monday",
          "Monday",
          "Monday",
          "Monday",
          "Monday",
          "Monday",
          "Monday",
          "Monday",
          "Monday",
          "Monday",
          "Monday",
          "Monday",
          "Monday",
          "Monday",
          "Monday",
          "Monday",
          "Monday",
          "Monday",
          "Monday",
          "Saturday",
          "Saturday",
          "Saturday",
          "Saturday",
          "Saturday",
          "Saturday",
          "Saturday",
          "Saturday",
          "Saturday",
          "Saturday",
          "Saturday",
          "Saturday",
          "Saturday",
          "Saturday",
          "Saturday",
          "Saturday",
          "Saturday",
          "Saturday",
          "Saturday",
          "Saturday",
          "Saturday",
          "Saturday",
          "Saturday",
          "Saturday",
          "Sunday",
          "Sunday",
          "Sunday",
          "Sunday",
          "Sunday",
          "Sunday",
          "Sunday",
          "Sunday",
          "Sunday",
          "Sunday",
          "Sunday",
          "Sunday",
          "Sunday",
          "Sunday",
          "Sunday",
          "Sunday",
          "Sunday",
          "Sunday",
          "Sunday",
          "Sunday",
          "Sunday",
          "Sunday",
          "Sunday",
          "Sunday",
          "Thursday",
          "Thursday",
          "Thursday",
          "Thursday",
          "Thursday",
          "Thursday",
          "Thursday",
          "Thursday",
          "Thursday",
          "Thursday",
          "Thursday",
          "Thursday",
          "Thursday",
          "Thursday",
          "Thursday",
          "Thursday",
          "Thursday",
          "Thursday",
          "Thursday",
          "Thursday",
          "Thursday",
          "Thursday",
          "Thursday",
          "Thursday",
          "Tuesday",
          "Tuesday",
          "Tuesday",
          "Tuesday",
          "Tuesday",
          "Tuesday",
          "Tuesday",
          "Tuesday",
          "Tuesday",
          "Tuesday",
          "Tuesday",
          "Tuesday",
          "Tuesday",
          "Tuesday",
          "Tuesday",
          "Tuesday",
          "Tuesday",
          "Tuesday",
          "Tuesday",
          "Tuesday",
          "Tuesday",
          "Tuesday",
          "Tuesday",
          "Tuesday",
          "Wednesday",
          "Wednesday",
          "Wednesday",
          "Wednesday",
          "Wednesday",
          "Wednesday",
          "Wednesday",
          "Wednesday",
          "Wednesday",
          "Wednesday",
          "Wednesday",
          "Wednesday",
          "Wednesday",
          "Wednesday",
          "Wednesday",
          "Wednesday",
          "Wednesday",
          "Wednesday",
          "Wednesday",
          "Wednesday",
          "Wednesday",
          "Wednesday",
          "Wednesday",
          "Wednesday"
         ],
         "yaxis": "y",
         "ybingroup": "y",
         "z": [
          19228,
          11911,
          7379,
          4775,
          4310,
          7564,
          21895,
          39079,
          47514,
          43252,
          39541,
          39983,
          42812,
          43011,
          47885,
          48598,
          44956,
          53104,
          61605,
          58015,
          47618,
          44688,
          45980,
          41515,
          10355,
          5979,
          3975,
          2812,
          3264,
          6931,
          19942,
          34158,
          42473,
          39868,
          36837,
          37415,
          39562,
          39362,
          42483,
          45878,
          41686,
          48636,
          52984,
          46567,
          39564,
          34606,
          26686,
          17330,
          34809,
          28439,
          22293,
          14869,
          8726,
          4490,
          7960,
          12988,
          21113,
          31290,
          38232,
          43084,
          46392,
          46701,
          44576,
          48383,
          47312,
          48049,
          50677,
          50083,
          40563,
          40532,
          43041,
          42153,
          37591,
          32064,
          25596,
          17594,
          9457,
          3903,
          5500,
          9677,
          15799,
          23285,
          32428,
          38014,
          41707,
          41698,
          42447,
          42345,
          41951,
          42385,
          41730,
          34563,
          29807,
          26332,
          23830,
          15635,
          17739,
          9929,
          6183,
          4250,
          4182,
          9970,
          29829,
          53912,
          63575,
          57687,
          52168,
          52365,
          54037,
          53865,
          59605,
          61805,
          55810,
          66886,
          76430,
          70477,
          64316,
          64262,
          55219,
          37450,
          20180,
          17231,
          13168,
          10067,
          7700,
          9918,
          25481,
          45167,
          54229,
          48950,
          44564,
          45728,
          48709,
          48155,
          52849,
          55693,
          50231,
          58998,
          66901,
          59654,
          53402,
          51326,
          40727,
          26315,
          15027,
          7962,
          5139,
          3557,
          3676,
          9162,
          28201,
          50622,
          60268,
          54303,
          48875,
          50095,
          52455,
          51763,
          56183,
          58898,
          52359,
          62219,
          72446,
          66398,
          60447,
          58050,
          48981,
          30278
         ]
        }
       ],
       "layout": {
        "coloraxis": {
         "colorbar": {
          "title": {
           "text": "sum of Trip Count"
          }
         },
         "colorscale": [
          [
           0,
           "rgb(255,255,217)"
          ],
          [
           0.125,
           "rgb(237,248,177)"
          ],
          [
           0.25,
           "rgb(199,233,180)"
          ],
          [
           0.375,
           "rgb(127,205,187)"
          ],
          [
           0.5,
           "rgb(65,182,196)"
          ],
          [
           0.625,
           "rgb(29,145,192)"
          ],
          [
           0.75,
           "rgb(34,94,168)"
          ],
          [
           0.875,
           "rgb(37,52,148)"
          ],
          [
           1,
           "rgb(8,29,88)"
          ]
         ]
        },
        "legend": {
         "tracegroupgap": 0
        },
        "template": {
         "data": {
          "candlestick": [
           {
            "decreasing": {
             "line": {
              "color": "#000033"
             }
            },
            "increasing": {
             "line": {
              "color": "#000032"
             }
            },
            "type": "candlestick"
           }
          ],
          "contour": [
           {
            "colorscale": [
             [
              0,
              "#000011"
             ],
             [
              0.1111111111111111,
              "#000012"
             ],
             [
              0.2222222222222222,
              "#000013"
             ],
             [
              0.3333333333333333,
              "#000014"
             ],
             [
              0.4444444444444444,
              "#000015"
             ],
             [
              0.5555555555555556,
              "#000016"
             ],
             [
              0.6666666666666666,
              "#000017"
             ],
             [
              0.7777777777777778,
              "#000018"
             ],
             [
              0.8888888888888888,
              "#000019"
             ],
             [
              1,
              "#000020"
             ]
            ],
            "type": "contour"
           }
          ],
          "contourcarpet": [
           {
            "colorscale": [
             [
              0,
              "#000011"
             ],
             [
              0.1111111111111111,
              "#000012"
             ],
             [
              0.2222222222222222,
              "#000013"
             ],
             [
              0.3333333333333333,
              "#000014"
             ],
             [
              0.4444444444444444,
              "#000015"
             ],
             [
              0.5555555555555556,
              "#000016"
             ],
             [
              0.6666666666666666,
              "#000017"
             ],
             [
              0.7777777777777778,
              "#000018"
             ],
             [
              0.8888888888888888,
              "#000019"
             ],
             [
              1,
              "#000020"
             ]
            ],
            "type": "contourcarpet"
           }
          ],
          "heatmap": [
           {
            "colorscale": [
             [
              0,
              "#000011"
             ],
             [
              0.1111111111111111,
              "#000012"
             ],
             [
              0.2222222222222222,
              "#000013"
             ],
             [
              0.3333333333333333,
              "#000014"
             ],
             [
              0.4444444444444444,
              "#000015"
             ],
             [
              0.5555555555555556,
              "#000016"
             ],
             [
              0.6666666666666666,
              "#000017"
             ],
             [
              0.7777777777777778,
              "#000018"
             ],
             [
              0.8888888888888888,
              "#000019"
             ],
             [
              1,
              "#000020"
             ]
            ],
            "type": "heatmap"
           }
          ],
          "histogram2d": [
           {
            "colorscale": [
             [
              0,
              "#000011"
             ],
             [
              0.1111111111111111,
              "#000012"
             ],
             [
              0.2222222222222222,
              "#000013"
             ],
             [
              0.3333333333333333,
              "#000014"
             ],
             [
              0.4444444444444444,
              "#000015"
             ],
             [
              0.5555555555555556,
              "#000016"
             ],
             [
              0.6666666666666666,
              "#000017"
             ],
             [
              0.7777777777777778,
              "#000018"
             ],
             [
              0.8888888888888888,
              "#000019"
             ],
             [
              1,
              "#000020"
             ]
            ],
            "type": "histogram2d"
           }
          ],
          "icicle": [
           {
            "textfont": {
             "color": "white"
            },
            "type": "icicle"
           }
          ],
          "sankey": [
           {
            "textfont": {
             "color": "#000036"
            },
            "type": "sankey"
           }
          ],
          "scatter": [
           {
            "marker": {
             "line": {
              "width": 0
             }
            },
            "type": "scatter"
           }
          ],
          "table": [
           {
            "cells": {
             "fill": {
              "color": "#000038"
             },
             "font": {
              "color": "#000037"
             },
             "line": {
              "color": "#000039"
             }
            },
            "header": {
             "fill": {
              "color": "#000040"
             },
             "font": {
              "color": "#000036"
             },
             "line": {
              "color": "#000039"
             }
            },
            "type": "table"
           }
          ],
          "waterfall": [
           {
            "connector": {
             "line": {
              "color": "#000036",
              "width": 2
             }
            },
            "decreasing": {
             "marker": {
              "color": "#000033"
             }
            },
            "increasing": {
             "marker": {
              "color": "#000032"
             }
            },
            "totals": {
             "marker": {
              "color": "#000034"
             }
            },
            "type": "waterfall"
           }
          ]
         },
         "layout": {
          "coloraxis": {
           "colorscale": [
            [
             0,
             "#000011"
            ],
            [
             0.1111111111111111,
             "#000012"
            ],
            [
             0.2222222222222222,
             "#000013"
            ],
            [
             0.3333333333333333,
             "#000014"
            ],
            [
             0.4444444444444444,
             "#000015"
            ],
            [
             0.5555555555555556,
             "#000016"
            ],
            [
             0.6666666666666666,
             "#000017"
            ],
            [
             0.7777777777777778,
             "#000018"
            ],
            [
             0.8888888888888888,
             "#000019"
            ],
            [
             1,
             "#000020"
            ]
           ]
          },
          "colorscale": {
           "diverging": [
            [
             0,
             "#000021"
            ],
            [
             0.1,
             "#000022"
            ],
            [
             0.2,
             "#000023"
            ],
            [
             0.3,
             "#000024"
            ],
            [
             0.4,
             "#000025"
            ],
            [
             0.5,
             "#000026"
            ],
            [
             0.6,
             "#000027"
            ],
            [
             0.7,
             "#000028"
            ],
            [
             0.8,
             "#000029"
            ],
            [
             0.9,
             "#000030"
            ],
            [
             1,
             "#000031"
            ]
           ],
           "sequential": [
            [
             0,
             "#000011"
            ],
            [
             0.1111111111111111,
             "#000012"
            ],
            [
             0.2222222222222222,
             "#000013"
            ],
            [
             0.3333333333333333,
             "#000014"
            ],
            [
             0.4444444444444444,
             "#000015"
            ],
            [
             0.5555555555555556,
             "#000016"
            ],
            [
             0.6666666666666666,
             "#000017"
            ],
            [
             0.7777777777777778,
             "#000018"
            ],
            [
             0.8888888888888888,
             "#000019"
            ],
            [
             1,
             "#000020"
            ]
           ],
           "sequentialminus": [
            [
             0,
             "#000011"
            ],
            [
             0.1111111111111111,
             "#000012"
            ],
            [
             0.2222222222222222,
             "#000013"
            ],
            [
             0.3333333333333333,
             "#000014"
            ],
            [
             0.4444444444444444,
             "#000015"
            ],
            [
             0.5555555555555556,
             "#000016"
            ],
            [
             0.6666666666666666,
             "#000017"
            ],
            [
             0.7777777777777778,
             "#000018"
            ],
            [
             0.8888888888888888,
             "#000019"
            ],
            [
             1,
             "#000020"
            ]
           ]
          },
          "colorway": [
           "#000001",
           "#000002",
           "#000003",
           "#000004",
           "#000005",
           "#000006",
           "#000007",
           "#000008",
           "#000009",
           "#000010"
          ]
         }
        },
        "title": {
         "text": "Interactive Heatmap (Pickup Time vs Y-Axis)"
        },
        "xaxis": {
         "anchor": "y",
         "domain": [
          0,
          1
         ],
         "title": {
          "text": "Hour of Day"
         }
        },
        "yaxis": {
         "anchor": "x",
         "domain": [
          0,
          1
         ],
         "title": {
          "text": "Y-Axis"
         },
         "type": "category"
        }
       }
      }
     },
     "metadata": {},
     "output_type": "display_data"
    }
   ],
   "source": [
    "import plotly.express as px\n",
    "\n",
    "# Create a new column for date (optional if you're filtering by specific dates)\n",
    "trips['pickup_date'] = trips['tpep_pickup_datetime'].dt.date\n",
    "\n",
    "# Filter data for the desired Y-axis attribute (e.g., weekday or specific date)\n",
    "y_axis_column = 'pickup_weekday'  # Change this to 'pickup_date' for dates\n",
    "\n",
    "# Aggregate data\n",
    "heatmap_data = trips.groupby([y_axis_column, 'pickup_hour']).size().reset_index(name='trip_count')\n",
    "\n",
    "# Plot interactive heatmap\n",
    "fig = px.density_heatmap(\n",
    "    heatmap_data,\n",
    "    x='pickup_hour',\n",
    "    y=y_axis_column,\n",
    "    z='trip_count',\n",
    "    color_continuous_scale='YlGnBu',\n",
    "    labels={'pickup_hour': 'Hour of Day', y_axis_column: 'Y-Axis', 'trip_count': 'Trip Count'},\n",
    "    title=\"Interactive Heatmap (Pickup Time vs Y-Axis)\"\n",
    ")\n",
    "\n",
    "# Add interactive dropdown for Y-axis (weekdays or specific dates)\n",
    "fig.update_layout(\n",
    "    yaxis=dict(title=\"Y-Axis\", type='category'),\n",
    "    xaxis=dict(title=\"Hour of Day\")\n",
    ")\n",
    "\n",
    "fig.show()\n"
   ]
  },
  {
   "cell_type": "code",
   "execution_count": 48,
   "metadata": {},
   "outputs": [
    {
     "data": {
      "image/png": "[encoded data removed]",
      "text/plain": [
       "<Figure size 1400x700 with 2 Axes>"
      ]
     },
     "metadata": {},
     "output_type": "display_data"
    }
   ],
   "source": [
    "# Aggregate data to get counts for each hour-weekday pair\n",
    "heatmap_data = trips.groupby(['pickup_weekday', 'pickup_hour']).size().reset_index(name='trip_count')\n",
    "\n",
    "# Pivot the data for heatmap\n",
    "heatmap_pivot = heatmap_data.pivot(index=\"pickup_weekday\", columns=\"pickup_hour\", values=\"trip_count\")\n",
    "\n",
    "# Reorder weekdays to start from Monday\n",
    "weekdays_order = ['Monday', 'Tuesday', 'Wednesday', 'Thursday', 'Friday', 'Saturday', 'Sunday']\n",
    "heatmap_pivot = heatmap_pivot.reindex(weekdays_order).fillna(0)\n",
    "\n",
    "# Ensure X-axis includes all hours (0-23)\n",
    "hour_range = list(range(24))\n",
    "heatmap_pivot = heatmap_pivot.reindex(columns=hour_range, fill_value=0)\n",
    "\n",
    "# Plot heatmap\n",
    "plt.figure(figsize=(14, 7))\n",
    "sns.heatmap(heatmap_pivot, cmap=\"YlGnBu\", linewidths=.5, annot=False, fmt='d', cbar_kws={'label': 'Trip Count'})\n",
    "plt.title(\"Trips Heatmap (Hour vs Weekday)\", fontsize=16)\n",
    "plt.xlabel(\"Hour of Day\", fontsize=12)\n",
    "plt.ylabel(\"Weekday\", fontsize=12)\n",
    "plt.xticks(ticks=range(24), labels=hour_range, rotation=45)  # Explicitly set all hours on X-axis\n",
    "plt.yticks(rotation=0)  # Keep Y-axis labels horizontal\n",
    "plt.tight_layout()\n",
    "plt.show()\n"
   ]
  },
  {
   "cell_type": "code",
   "execution_count": null,
   "metadata": {},
   "outputs": [],
   "source": []
  }
 ],
 "metadata": {
  "kernelspec": {
   "display_name": "Python 3",
   "language": "python",
   "name": "python3"
  },
  "language_info": {
   "codemirror_mode": {
    "name": "ipython",
    "version": 3
   },
   "file_extension": ".py",
   "mimetype": "text/x-python",
   "name": "python",
   "nbconvert_exporter": "python",
   "pygments_lexer": "ipython3",
   "version": "3.10.6"
  }
 },
 "nbformat": 4,
 "nbformat_minor": 2
}
