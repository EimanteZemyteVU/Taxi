{
  "cells": [
    {
      "cell_type": "markdown",
      "metadata": {
        "id": "JSu5iUi60eyF"
      },
      "source": [
        "Import necessary libraries"
      ]
    },
    {
      "cell_type": "code",
      "execution_count": 1,
      "metadata": {
        "colab": {
          "base_uri": "https://localhost:8080/"
        },
        "id": "nHLOh4u_RL8j",
        "outputId": "118d7601-afb1-45bf-c609-db08e9aceb61",
        "vscode": {
          "languageId": "r"
        }
      },
      "outputs": [
        {
          "name": "stderr",
          "output_type": "stream",
          "text": [
            "Installing package into ‘/usr/local/lib/R/site-library’\n",
            "(as ‘lib’ is unspecified)\n",
            "\n",
            "\n",
            "Attaching package: ‘dplyr’\n",
            "\n",
            "\n",
            "The following objects are masked from ‘package:stats’:\n",
            "\n",
            "    filter, lag\n",
            "\n",
            "\n",
            "The following objects are masked from ‘package:base’:\n",
            "\n",
            "    intersect, setdiff, setequal, union\n",
            "\n",
            "\n",
            "Loading required package: lattice\n",
            "\n",
            "\n",
            "Attaching package: ‘boot’\n",
            "\n",
            "\n",
            "The following object is masked from ‘package:lattice’:\n",
            "\n",
            "    melanoma\n",
            "\n",
            "\n"
          ]
        }
      ],
      "source": [
        "install.packages(\"caret\")\n",
        "library(dplyr)\n",
        "library(ggplot2)\n",
        "library(caret)\n",
        "library(class)\n",
        "library(reshape2)\n",
        "library(readr)\n",
        "library(stringr)\n",
        "library(boot)"
      ]
    },
    {
      "cell_type": "markdown",
      "metadata": {
        "id": "xsqnvJQX0wR4"
      },
      "source": [
        "Load data. It was already prepared beforehand."
      ]
    },
    {
      "cell_type": "code",
      "execution_count": 2,
      "metadata": {
        "colab": {
          "base_uri": "https://localhost:8080/",
          "height": 598
        },
        "id": "s9yM3mCfh5CT",
        "outputId": "077aa167-8158-44cb-9272-1786fd90fa55",
        "vscode": {
          "languageId": "r"
        }
      },
      "outputs": [
        {
          "name": "stderr",
          "output_type": "stream",
          "text": [
            "\u001b[1mRows: \u001b[22m\u001b[34m345277\u001b[39m \u001b[1mColumns: \u001b[22m\u001b[34m22\u001b[39m\n",
            "\u001b[36m──\u001b[39m \u001b[1mColumn specification\u001b[22m \u001b[36m────────────────────────────────────────────────────────\u001b[39m\n",
            "\u001b[1mDelimiter:\u001b[22m \",\"\n",
            "\u001b[31mchr\u001b[39m  (1): pickup_weekday\n",
            "\u001b[32mdbl\u001b[39m (21): trip_distance, RatecodeID, extra, tip_amount, total_amount, pickup...\n",
            "\n",
            "\u001b[36mℹ\u001b[39m Use `spec()` to retrieve the full column specification for this data.\n",
            "\u001b[36mℹ\u001b[39m Specify the column types or set `show_col_types = FALSE` to quiet this message.\n",
            "\u001b[1mRows: \u001b[22m\u001b[34m208593\u001b[39m \u001b[1mColumns: \u001b[22m\u001b[34m22\u001b[39m\n",
            "\u001b[36m──\u001b[39m \u001b[1mColumn specification\u001b[22m \u001b[36m────────────────────────────────────────────────────────\u001b[39m\n",
            "\u001b[1mDelimiter:\u001b[22m \",\"\n",
            "\u001b[31mchr\u001b[39m  (1): pickup_weekday\n",
            "\u001b[32mdbl\u001b[39m (21): trip_distance, RatecodeID, extra, tip_amount, total_amount, pickup...\n",
            "\n",
            "\u001b[36mℹ\u001b[39m Use `spec()` to retrieve the full column specification for this data.\n",
            "\u001b[36mℹ\u001b[39m Specify the column types or set `show_col_types = FALSE` to quiet this message.\n"
          ]
        },
        {
          "data": {
            "text/html": [
              "<table class=\"dataframe\">\n",
              "<caption>A tibble: 6 × 22</caption>\n",
              "<thead>\n",
              "\t<tr><th scope=col>trip_distance</th><th scope=col>RatecodeID</th><th scope=col>extra</th><th scope=col>tip_amount</th><th scope=col>total_amount</th><th scope=col>pickuptime_in_seconds</th><th scope=col>trip_duration</th><th scope=col>pickup_weekday</th><th scope=col>PULocationID_encoded</th><th scope=col>DOLocationID_encoded</th><th scope=col>⋯</th><th scope=col>pickup_is_weekend</th><th scope=col>trip_log_duration</th><th scope=col>trip_log_distance</th><th scope=col>trip_duration_squared</th><th scope=col>trip_distance_squared</th><th scope=col>duration_log_interaction</th><th scope=col>duration_distance_squared_interaction</th><th scope=col>trip_duration_cubed</th><th scope=col>trip_distance_cubed</th><th scope=col>duration_distance_cubed_interaction</th></tr>\n",
              "\t<tr><th scope=col>&lt;dbl&gt;</th><th scope=col>&lt;dbl&gt;</th><th scope=col>&lt;dbl&gt;</th><th scope=col>&lt;dbl&gt;</th><th scope=col>&lt;dbl&gt;</th><th scope=col>&lt;dbl&gt;</th><th scope=col>&lt;dbl&gt;</th><th scope=col>&lt;chr&gt;</th><th scope=col>&lt;dbl&gt;</th><th scope=col>&lt;dbl&gt;</th><th scope=col>⋯</th><th scope=col>&lt;dbl&gt;</th><th scope=col>&lt;dbl&gt;</th><th scope=col>&lt;dbl&gt;</th><th scope=col>&lt;dbl&gt;</th><th scope=col>&lt;dbl&gt;</th><th scope=col>&lt;dbl&gt;</th><th scope=col>&lt;dbl&gt;</th><th scope=col>&lt;dbl&gt;</th><th scope=col>&lt;dbl&gt;</th><th scope=col>&lt;dbl&gt;</th></tr>\n",
              "</thead>\n",
              "<tbody>\n",
              "\t<tr><td>3.60</td><td>1</td><td>3.0</td><td>4.00</td><td>19.3</td><td>1883</td><td>1115</td><td>Monday</td><td>15.97617</td><td>13.80704</td><td>⋯</td><td>0</td><td>7.017506</td><td>1.526056</td><td>1243225</td><td>12.9600</td><td>25.26302</td><td>16112196.0</td><td>1386195875</td><td> 46.656000</td><td> 64674354744</td></tr>\n",
              "\t<tr><td>5.60</td><td>1</td><td>3.0</td><td>2.00</td><td>23.3</td><td>2570</td><td>1303</td><td>Monday</td><td>15.39873</td><td>26.66805</td><td>⋯</td><td>0</td><td>7.173192</td><td>1.887070</td><td>1697809</td><td>31.3600</td><td>40.16987</td><td>53243290.2</td><td>2212245127</td><td>175.616000</td><td>388505640223</td></tr>\n",
              "\t<tr><td>2.30</td><td>1</td><td>0.5</td><td>0.00</td><td>11.3</td><td>2391</td><td> 558</td><td>Monday</td><td>13.68903</td><td>18.22794</td><td>⋯</td><td>0</td><td>6.326149</td><td>1.193922</td><td> 311364</td><td> 5.2900</td><td>14.55014</td><td> 1647115.6</td><td> 173741112</td><td> 12.167000</td><td>  2113908110</td></tr>\n",
              "\t<tr><td>5.30</td><td>1</td><td>3.0</td><td>0.00</td><td>21.3</td><td>3373</td><td> 925</td><td>Monday</td><td>13.38711</td><td>18.22794</td><td>⋯</td><td>0</td><td>6.830874</td><td>1.840550</td><td> 855625</td><td>28.0900</td><td>36.20363</td><td>24034506.2</td><td> 791453125</td><td>148.877000</td><td>117829166891</td></tr>\n",
              "\t<tr><td>4.40</td><td>1</td><td>3.0</td><td>3.65</td><td>18.3</td><td>1001</td><td> 769</td><td>Monday</td><td>15.24436</td><td>13.24517</td><td>⋯</td><td>0</td><td>6.646391</td><td>1.686399</td><td> 591361</td><td>19.3600</td><td>29.24412</td><td>11448749.0</td><td> 454756609</td><td> 85.184000</td><td> 38737986981</td></tr>\n",
              "\t<tr><td>1.72</td><td>1</td><td>0.5</td><td>0.00</td><td>11.8</td><td> 389</td><td> 413</td><td>Monday</td><td>13.83188</td><td>12.93527</td><td>⋯</td><td>0</td><td>6.025866</td><td>1.000632</td><td> 170569</td><td> 2.9584</td><td>10.36449</td><td>  504611.3</td><td>  70444997</td><td>  5.088448</td><td>   358455704</td></tr>\n",
              "</tbody>\n",
              "</table>\n"
            ],
            "text/latex": [
              "A tibble: 6 × 22\n",
              "\\begin{tabular}{lllllllllllllllllllll}\n",
              " trip\\_distance & RatecodeID & extra & tip\\_amount & total\\_amount & pickuptime\\_in\\_seconds & trip\\_duration & pickup\\_weekday & PULocationID\\_encoded & DOLocationID\\_encoded & ⋯ & pickup\\_is\\_weekend & trip\\_log\\_duration & trip\\_log\\_distance & trip\\_duration\\_squared & trip\\_distance\\_squared & duration\\_log\\_interaction & duration\\_distance\\_squared\\_interaction & trip\\_duration\\_cubed & trip\\_distance\\_cubed & duration\\_distance\\_cubed\\_interaction\\\\\n",
              " <dbl> & <dbl> & <dbl> & <dbl> & <dbl> & <dbl> & <dbl> & <chr> & <dbl> & <dbl> & ⋯ & <dbl> & <dbl> & <dbl> & <dbl> & <dbl> & <dbl> & <dbl> & <dbl> & <dbl> & <dbl>\\\\\n",
              "\\hline\n",
              "\t 3.60 & 1 & 3.0 & 4.00 & 19.3 & 1883 & 1115 & Monday & 15.97617 & 13.80704 & ⋯ & 0 & 7.017506 & 1.526056 & 1243225 & 12.9600 & 25.26302 & 16112196.0 & 1386195875 &  46.656000 &  64674354744\\\\\n",
              "\t 5.60 & 1 & 3.0 & 2.00 & 23.3 & 2570 & 1303 & Monday & 15.39873 & 26.66805 & ⋯ & 0 & 7.173192 & 1.887070 & 1697809 & 31.3600 & 40.16987 & 53243290.2 & 2212245127 & 175.616000 & 388505640223\\\\\n",
              "\t 2.30 & 1 & 0.5 & 0.00 & 11.3 & 2391 &  558 & Monday & 13.68903 & 18.22794 & ⋯ & 0 & 6.326149 & 1.193922 &  311364 &  5.2900 & 14.55014 &  1647115.6 &  173741112 &  12.167000 &   2113908110\\\\\n",
              "\t 5.30 & 1 & 3.0 & 0.00 & 21.3 & 3373 &  925 & Monday & 13.38711 & 18.22794 & ⋯ & 0 & 6.830874 & 1.840550 &  855625 & 28.0900 & 36.20363 & 24034506.2 &  791453125 & 148.877000 & 117829166891\\\\\n",
              "\t 4.40 & 1 & 3.0 & 3.65 & 18.3 & 1001 &  769 & Monday & 15.24436 & 13.24517 & ⋯ & 0 & 6.646391 & 1.686399 &  591361 & 19.3600 & 29.24412 & 11448749.0 &  454756609 &  85.184000 &  38737986981\\\\\n",
              "\t 1.72 & 1 & 0.5 & 0.00 & 11.8 &  389 &  413 & Monday & 13.83188 & 12.93527 & ⋯ & 0 & 6.025866 & 1.000632 &  170569 &  2.9584 & 10.36449 &   504611.3 &   70444997 &   5.088448 &    358455704\\\\\n",
              "\\end{tabular}\n"
            ],
            "text/markdown": [
              "\n",
              "A tibble: 6 × 22\n",
              "\n",
              "| trip_distance &lt;dbl&gt; | RatecodeID &lt;dbl&gt; | extra &lt;dbl&gt; | tip_amount &lt;dbl&gt; | total_amount &lt;dbl&gt; | pickuptime_in_seconds &lt;dbl&gt; | trip_duration &lt;dbl&gt; | pickup_weekday &lt;chr&gt; | PULocationID_encoded &lt;dbl&gt; | DOLocationID_encoded &lt;dbl&gt; | ⋯ ⋯ | pickup_is_weekend &lt;dbl&gt; | trip_log_duration &lt;dbl&gt; | trip_log_distance &lt;dbl&gt; | trip_duration_squared &lt;dbl&gt; | trip_distance_squared &lt;dbl&gt; | duration_log_interaction &lt;dbl&gt; | duration_distance_squared_interaction &lt;dbl&gt; | trip_duration_cubed &lt;dbl&gt; | trip_distance_cubed &lt;dbl&gt; | duration_distance_cubed_interaction &lt;dbl&gt; |\n",
              "|---|---|---|---|---|---|---|---|---|---|---|---|---|---|---|---|---|---|---|---|---|\n",
              "| 3.60 | 1 | 3.0 | 4.00 | 19.3 | 1883 | 1115 | Monday | 15.97617 | 13.80704 | ⋯ | 0 | 7.017506 | 1.526056 | 1243225 | 12.9600 | 25.26302 | 16112196.0 | 1386195875 |  46.656000 |  64674354744 |\n",
              "| 5.60 | 1 | 3.0 | 2.00 | 23.3 | 2570 | 1303 | Monday | 15.39873 | 26.66805 | ⋯ | 0 | 7.173192 | 1.887070 | 1697809 | 31.3600 | 40.16987 | 53243290.2 | 2212245127 | 175.616000 | 388505640223 |\n",
              "| 2.30 | 1 | 0.5 | 0.00 | 11.3 | 2391 |  558 | Monday | 13.68903 | 18.22794 | ⋯ | 0 | 6.326149 | 1.193922 |  311364 |  5.2900 | 14.55014 |  1647115.6 |  173741112 |  12.167000 |   2113908110 |\n",
              "| 5.30 | 1 | 3.0 | 0.00 | 21.3 | 3373 |  925 | Monday | 13.38711 | 18.22794 | ⋯ | 0 | 6.830874 | 1.840550 |  855625 | 28.0900 | 36.20363 | 24034506.2 |  791453125 | 148.877000 | 117829166891 |\n",
              "| 4.40 | 1 | 3.0 | 3.65 | 18.3 | 1001 |  769 | Monday | 15.24436 | 13.24517 | ⋯ | 0 | 6.646391 | 1.686399 |  591361 | 19.3600 | 29.24412 | 11448749.0 |  454756609 |  85.184000 |  38737986981 |\n",
              "| 1.72 | 1 | 0.5 | 0.00 | 11.8 |  389 |  413 | Monday | 13.83188 | 12.93527 | ⋯ | 0 | 6.025866 | 1.000632 |  170569 |  2.9584 | 10.36449 |   504611.3 |   70444997 |   5.088448 |    358455704 |\n",
              "\n"
            ],
            "text/plain": [
              "  trip_distance RatecodeID extra tip_amount total_amount pickuptime_in_seconds\n",
              "1 3.60          1          3.0   4.00       19.3         1883                 \n",
              "2 5.60          1          3.0   2.00       23.3         2570                 \n",
              "3 2.30          1          0.5   0.00       11.3         2391                 \n",
              "4 5.30          1          3.0   0.00       21.3         3373                 \n",
              "5 4.40          1          3.0   3.65       18.3         1001                 \n",
              "6 1.72          1          0.5   0.00       11.8          389                 \n",
              "  trip_duration pickup_weekday PULocationID_encoded DOLocationID_encoded ⋯\n",
              "1 1115          Monday         15.97617             13.80704             ⋯\n",
              "2 1303          Monday         15.39873             26.66805             ⋯\n",
              "3  558          Monday         13.68903             18.22794             ⋯\n",
              "4  925          Monday         13.38711             18.22794             ⋯\n",
              "5  769          Monday         15.24436             13.24517             ⋯\n",
              "6  413          Monday         13.83188             12.93527             ⋯\n",
              "  pickup_is_weekend trip_log_duration trip_log_distance trip_duration_squared\n",
              "1 0                 7.017506          1.526056          1243225              \n",
              "2 0                 7.173192          1.887070          1697809              \n",
              "3 0                 6.326149          1.193922           311364              \n",
              "4 0                 6.830874          1.840550           855625              \n",
              "5 0                 6.646391          1.686399           591361              \n",
              "6 0                 6.025866          1.000632           170569              \n",
              "  trip_distance_squared duration_log_interaction\n",
              "1 12.9600               25.26302                \n",
              "2 31.3600               40.16987                \n",
              "3  5.2900               14.55014                \n",
              "4 28.0900               36.20363                \n",
              "5 19.3600               29.24412                \n",
              "6  2.9584               10.36449                \n",
              "  duration_distance_squared_interaction trip_duration_cubed trip_distance_cubed\n",
              "1 16112196.0                            1386195875           46.656000         \n",
              "2 53243290.2                            2212245127          175.616000         \n",
              "3  1647115.6                             173741112           12.167000         \n",
              "4 24034506.2                             791453125          148.877000         \n",
              "5 11448749.0                             454756609           85.184000         \n",
              "6   504611.3                              70444997            5.088448         \n",
              "  duration_distance_cubed_interaction\n",
              "1  64674354744                       \n",
              "2 388505640223                       \n",
              "3   2113908110                       \n",
              "4 117829166891                       \n",
              "5  38737986981                       \n",
              "6    358455704                       "
            ]
          },
          "metadata": {},
          "output_type": "display_data"
        }
      ],
      "source": [
        "# Install and load the required package if not already installed\n",
        "if (!requireNamespace(\"readr\", quietly = TRUE)) {\n",
        "  install.packages(\"readr\")\n",
        "}\n",
        "library(readr)\n",
        "\n",
        "# Define the file paths for all CSV files\n",
        "file_paths <- c(\"trips_import_2020-06.csv\", \"trips_import_2020-05.csv\")\n",
        "\n",
        "# Initialize an empty dataframe\n",
        "trips <- data.frame()\n",
        "\n",
        "# Loop through each file, read it, and append to the trips dataframe\n",
        "for (file_path in file_paths) {\n",
        "  temp_df <- read_csv(file_path)\n",
        "  trips <- rbind(trips, temp_df)\n",
        "}\n",
        "\n",
        "# View the first few rows of the combined dataframe\n",
        "head(trips)\n"
      ]
    },
    {
      "cell_type": "code",
      "execution_count": 3,
      "metadata": {
        "colab": {
          "base_uri": "https://localhost:8080/"
        },
        "id": "UvGvEYGuKuqu",
        "outputId": "35676a3c-2065-41aa-9d78-4f8a552db69d",
        "vscode": {
          "languageId": "r"
        }
      },
      "outputs": [
        {
          "name": "stdout",
          "output_type": "stream",
          "text": [
            " [1] \"trip_distance\"                        \n",
            " [2] \"RatecodeID\"                           \n",
            " [3] \"extra\"                                \n",
            " [4] \"tip_amount\"                           \n",
            " [5] \"total_amount\"                         \n",
            " [6] \"pickuptime_in_seconds\"                \n",
            " [7] \"trip_duration\"                        \n",
            " [8] \"pickup_weekday\"                       \n",
            " [9] \"PULocationID_encoded\"                 \n",
            "[10] \"DOLocationID_encoded\"                 \n",
            "[11] \"VendorID_encoded\"                     \n",
            "[12] \"pickup_hour\"                          \n",
            "[13] \"pickup_is_weekend\"                    \n",
            "[14] \"trip_log_duration\"                    \n",
            "[15] \"trip_log_distance\"                    \n",
            "[16] \"trip_duration_squared\"                \n",
            "[17] \"trip_distance_squared\"                \n",
            "[18] \"duration_log_interaction\"             \n",
            "[19] \"duration_distance_squared_interaction\"\n",
            "[20] \"trip_duration_cubed\"                  \n",
            "[21] \"trip_distance_cubed\"                  \n",
            "[22] \"duration_distance_cubed_interaction\"  \n"
          ]
        }
      ],
      "source": [
        "# Get all column names from the 'trips' dataframe\n",
        "column_names <- names(trips)\n",
        "\n",
        "# Print the column names\n",
        "print(column_names)"
      ]
    },
    {
      "cell_type": "markdown",
      "metadata": {
        "id": "BWopMWie04CG"
      },
      "source": [
        "Selection of columns that will be used for knn (continuous and catagorical). Added  transformation - fare per meter."
      ]
    },
    {
      "cell_type": "code",
      "execution_count": 4,
      "metadata": {
        "id": "ugNIHPyAh3OB",
        "vscode": {
          "languageId": "r"
        }
      },
      "outputs": [],
      "source": [
        "# Step 1: Select suitable columns and filter them\n",
        "knn_columns <- c(\n",
        "  'trip_duration', 'pickuptime_in_seconds',  'pickup_weekday', 'PULocationID_encoded', 'DOLocationID_encoded',\n",
        "  'VendorID_encoded', 'pickup_is_weekend',  'trip_log_distance'\n",
        ")\n",
        "\n",
        "knn_data <- trips[, knn_columns]\n"
      ]
    },
    {
      "cell_type": "markdown",
      "metadata": {
        "id": "XH2IP6br1gsL"
      },
      "source": [
        "Categorize trip duration into 5 categories"
      ]
    },
    {
      "cell_type": "code",
      "execution_count": 5,
      "metadata": {
        "colab": {
          "base_uri": "https://localhost:8080/"
        },
        "id": "ItujhRExmYiW",
        "outputId": "b2161565-add3-491e-eaf2-6e6fc8d3d975",
        "vscode": {
          "languageId": "r"
        }
      },
      "outputs": [
        {
          "name": "stdout",
          "output_type": "stream",
          "text": [
            "\n",
            "       [0,257]      (257,391]      (391,552]      (552,791] (791,1.88e+03] \n",
            "        111231         110444         110882         110807         110506 \n"
          ]
        }
      ],
      "source": [
        "# Step 2: categorize trip duration into 5 categories based on quantiles\n",
        "\n",
        "knn_data$trip_duration_class <- cut(\n",
        "  knn_data$trip_duration,\n",
        "  breaks = quantile(knn_data$trip_duration, probs = c(0, 0.2, 0.4, 0.6, 0.8, 1)),\n",
        "  labels = c(0, 1, 2, 3, 4),\n",
        "  include.lowest = TRUE\n",
        ")\n",
        "\n",
        "print(table(cut(knn_data$trip_duration, breaks = quantile(knn_data$trip_duration, probs = c(0, 0.2, 0.4, 0.6, 0.8, 1)), include.lowest = TRUE)))"
      ]
    },
    {
      "cell_type": "markdown",
      "metadata": {
        "id": "5QKr4OFp12l9"
      },
      "source": [
        "Filter out strong correlations and constant columns (they don't give anything useful)"
      ]
    },
    {
      "cell_type": "code",
      "execution_count": 6,
      "metadata": {
        "id": "M-6kMYqWnBap",
        "vscode": {
          "languageId": "r"
        }
      },
      "outputs": [],
      "source": [
        "numeric_cols <- knn_data[, sapply(knn_data, is.numeric) & names(knn_data) != \"trip_duration\"]\n",
        "\n",
        "# Calculate the correlation matrix\n",
        "corr_matrix <- cor(numeric_cols)\n",
        "corr_matrix_melt <- melt(corr_matrix) # Melt the correlation matrix\n",
        "\n",
        "# Remove highly correlated features\n",
        "high_corr_features <- corr_matrix_melt %>%\n",
        "  filter(abs(value) > 0.8 & Var1 != Var2)\n",
        "\n",
        "# Drop the highly correlated features from the original data frame\n",
        "knn_data_cleaned <- knn_data[, !names(knn_data) %in% high_corr_features$Var1]"
      ]
    },
    {
      "cell_type": "code",
      "execution_count": 7,
      "metadata": {
        "colab": {
          "base_uri": "https://localhost:8080/",
          "height": 98
        },
        "id": "X4e4iNgmuLXJ",
        "outputId": "b5b865d6-d5fd-481d-d692-fcf12769b9c8",
        "vscode": {
          "languageId": "r"
        }
      },
      "outputs": [
        {
          "data": {
            "text/html": [
              "<table class=\"dataframe\">\n",
              "<caption>A data.frame: 0 × 3</caption>\n",
              "<thead>\n",
              "\t<tr><th scope=col>Var1</th><th scope=col>Var2</th><th scope=col>value</th></tr>\n",
              "\t<tr><th scope=col>&lt;fct&gt;</th><th scope=col>&lt;fct&gt;</th><th scope=col>&lt;dbl&gt;</th></tr>\n",
              "</thead>\n",
              "<tbody>\n",
              "</tbody>\n",
              "</table>\n"
            ],
            "text/latex": [
              "A data.frame: 0 × 3\n",
              "\\begin{tabular}{lll}\n",
              " Var1 & Var2 & value\\\\\n",
              " <fct> & <fct> & <dbl>\\\\\n",
              "\\hline\n",
              "\\end{tabular}\n"
            ],
            "text/markdown": [
              "\n",
              "A data.frame: 0 × 3\n",
              "\n",
              "| Var1 &lt;fct&gt; | Var2 &lt;fct&gt; | value &lt;dbl&gt; |\n",
              "|---|---|---|\n",
              "\n"
            ],
            "text/plain": [
              "     Var1 Var2 value"
            ]
          },
          "metadata": {},
          "output_type": "display_data"
        }
      ],
      "source": [
        "high_corr_features"
      ]
    },
    {
      "cell_type": "markdown",
      "metadata": {
        "id": "9QmJxBCl2KNn"
      },
      "source": [
        "Draw correlation matrix"
      ]
    },
    {
      "cell_type": "code",
      "execution_count": 8,
      "metadata": {
        "colab": {
          "base_uri": "https://localhost:8080/",
          "height": 437
        },
        "id": "-Ai10udaoJqu",
        "outputId": "9c1bbcfa-7051-4394-e109-0f3dc69a58a4",
        "vscode": {
          "languageId": "r"
        }
      },
      "outputs": [
        {
          "data": {
            "image/png": "[encoded data removed]",
            "text/plain": [
              "plot without title"
            ]
          },
          "metadata": {
            "image/png": {
              "height": 420,
              "width": 420
            }
          },
          "output_type": "display_data"
        }
      ],
      "source": [
        "numeric_cols <- knn_data_cleaned[, sapply(knn_data_cleaned, is.numeric)]\n",
        "\n",
        "corr_matrix <- cor(numeric_cols)\n",
        "\n",
        "# Plot the heatmap to visualize the correlations\n",
        "corr_matrix_melt <- melt(corr_matrix)\n",
        "ggplot(corr_matrix_melt, aes(x = Var1, y = Var2, fill = value)) +\n",
        "  geom_tile() +\n",
        "  scale_fill_gradient2(low = \"blue\", mid = \"white\", high = \"red\") +\n",
        "  theme_minimal() +\n",
        "  theme(axis.text.x = element_text(angle = 90, hjust = 1)) +\n",
        "  labs(title = \"Correlation Heatmap\", x = \"\", y = \"\")\n",
        "\n"
      ]
    },
    {
      "cell_type": "markdown",
      "metadata": {
        "id": "UF1jX34d2VOl"
      },
      "source": [
        "Assign dependent and independent variables"
      ]
    },
    {
      "cell_type": "code",
      "execution_count": 10,
      "metadata": {
        "id": "guFDEybSoYyy",
        "vscode": {
          "languageId": "r"
        }
      },
      "outputs": [],
      "source": [
        "# Prepare Features and Target Variable\n",
        "X <- knn_data_cleaned[, !names(knn_data_cleaned) %in% c(\"trip_duration\", \"trip_duration_class\")]\n",
        "y <- knn_data_cleaned$trip_duration_class\n"
      ]
    },
    {
      "cell_type": "markdown",
      "metadata": {
        "id": "6AJwt_Zo2c5c"
      },
      "source": [
        "Scale"
      ]
    },
    {
      "cell_type": "code",
      "execution_count": 11,
      "metadata": {
        "colab": {
          "base_uri": "https://localhost:8080/",
          "height": 255
        },
        "id": "v4flh7czolk_",
        "outputId": "44d38e17-cd55-4cfd-cece-413104905b31",
        "vscode": {
          "languageId": "r"
        }
      },
      "outputs": [
        {
          "data": {
            "text/html": [
              "<table class=\"dataframe\">\n",
              "<caption>A matrix: 6 × 7 of type dbl</caption>\n",
              "<thead>\n",
              "\t<tr><th scope=col>trip_duration</th><th scope=col>pickuptime_in_seconds</th><th scope=col>PULocationID_encoded</th><th scope=col>DOLocationID_encoded</th><th scope=col>VendorID_encoded</th><th scope=col>pickup_is_weekend</th><th scope=col>trip_log_distance</th></tr>\n",
              "</thead>\n",
              "<tbody>\n",
              "\t<tr><td> 1.7293608</td><td>-2.774730</td><td> 0.03812432</td><td>-0.1982507</td><td>-0.3916872</td><td>-0.507909</td><td>1.14726101</td></tr>\n",
              "\t<tr><td> 2.2939673</td><td>-2.734925</td><td>-0.05572005</td><td> 1.6226696</td><td>-0.3916872</td><td>-0.507909</td><td>1.92430538</td></tr>\n",
              "\t<tr><td> 0.0565637</td><td>-2.745296</td><td>-0.33357964</td><td> 0.4276807</td><td>-0.3916872</td><td>-0.507909</td><td>0.43237683</td></tr>\n",
              "\t<tr><td> 1.1587478</td><td>-2.688398</td><td>-0.38264727</td><td> 0.4276807</td><td>-0.3916872</td><td>-0.507909</td><td>1.82417580</td></tr>\n",
              "\t<tr><td> 0.6902445</td><td>-2.825834</td><td>-0.08080765</td><td>-0.2778031</td><td>-0.3916872</td><td>-0.507909</td><td>1.49238219</td></tr>\n",
              "\t<tr><td>-0.3789041</td><td>-2.861293</td><td>-0.31036316</td><td>-0.3216809</td><td>-0.2070031</td><td>-0.507909</td><td>0.01633857</td></tr>\n",
              "</tbody>\n",
              "</table>\n"
            ],
            "text/latex": [
              "A matrix: 6 × 7 of type dbl\n",
              "\\begin{tabular}{lllllll}\n",
              " trip\\_duration & pickuptime\\_in\\_seconds & PULocationID\\_encoded & DOLocationID\\_encoded & VendorID\\_encoded & pickup\\_is\\_weekend & trip\\_log\\_distance\\\\\n",
              "\\hline\n",
              "\t  1.7293608 & -2.774730 &  0.03812432 & -0.1982507 & -0.3916872 & -0.507909 & 1.14726101\\\\\n",
              "\t  2.2939673 & -2.734925 & -0.05572005 &  1.6226696 & -0.3916872 & -0.507909 & 1.92430538\\\\\n",
              "\t  0.0565637 & -2.745296 & -0.33357964 &  0.4276807 & -0.3916872 & -0.507909 & 0.43237683\\\\\n",
              "\t  1.1587478 & -2.688398 & -0.38264727 &  0.4276807 & -0.3916872 & -0.507909 & 1.82417580\\\\\n",
              "\t  0.6902445 & -2.825834 & -0.08080765 & -0.2778031 & -0.3916872 & -0.507909 & 1.49238219\\\\\n",
              "\t -0.3789041 & -2.861293 & -0.31036316 & -0.3216809 & -0.2070031 & -0.507909 & 0.01633857\\\\\n",
              "\\end{tabular}\n"
            ],
            "text/markdown": [
              "\n",
              "A matrix: 6 × 7 of type dbl\n",
              "\n",
              "| trip_duration | pickuptime_in_seconds | PULocationID_encoded | DOLocationID_encoded | VendorID_encoded | pickup_is_weekend | trip_log_distance |\n",
              "|---|---|---|---|---|---|---|\n",
              "|  1.7293608 | -2.774730 |  0.03812432 | -0.1982507 | -0.3916872 | -0.507909 | 1.14726101 |\n",
              "|  2.2939673 | -2.734925 | -0.05572005 |  1.6226696 | -0.3916872 | -0.507909 | 1.92430538 |\n",
              "|  0.0565637 | -2.745296 | -0.33357964 |  0.4276807 | -0.3916872 | -0.507909 | 0.43237683 |\n",
              "|  1.1587478 | -2.688398 | -0.38264727 |  0.4276807 | -0.3916872 | -0.507909 | 1.82417580 |\n",
              "|  0.6902445 | -2.825834 | -0.08080765 | -0.2778031 | -0.3916872 | -0.507909 | 1.49238219 |\n",
              "| -0.3789041 | -2.861293 | -0.31036316 | -0.3216809 | -0.2070031 | -0.507909 | 0.01633857 |\n",
              "\n"
            ],
            "text/plain": [
              "     trip_duration pickuptime_in_seconds PULocationID_encoded\n",
              "[1,]  1.7293608    -2.774730              0.03812432         \n",
              "[2,]  2.2939673    -2.734925             -0.05572005         \n",
              "[3,]  0.0565637    -2.745296             -0.33357964         \n",
              "[4,]  1.1587478    -2.688398             -0.38264727         \n",
              "[5,]  0.6902445    -2.825834             -0.08080765         \n",
              "[6,] -0.3789041    -2.861293             -0.31036316         \n",
              "     DOLocationID_encoded VendorID_encoded pickup_is_weekend trip_log_distance\n",
              "[1,] -0.1982507           -0.3916872       -0.507909         1.14726101       \n",
              "[2,]  1.6226696           -0.3916872       -0.507909         1.92430538       \n",
              "[3,]  0.4276807           -0.3916872       -0.507909         0.43237683       \n",
              "[4,]  0.4276807           -0.3916872       -0.507909         1.82417580       \n",
              "[5,] -0.2778031           -0.3916872       -0.507909         1.49238219       \n",
              "[6,] -0.3216809           -0.2070031       -0.507909         0.01633857       "
            ]
          },
          "metadata": {},
          "output_type": "display_data"
        }
      ],
      "source": [
        "# Scale the features\n",
        "# Select only numeric columns from the data frame\n",
        "numeric_columns <- sapply(knn_data_cleaned, is.numeric)  # Identify numeric columns\n",
        "X_numeric <- knn_data_cleaned[, numeric_columns]         # Subset to only numeric columns\n",
        "\n",
        "# Scale the numeric features\n",
        "X_scaled <- scale(X_numeric)  # Scale only the numeric columns\n",
        "\n",
        "head(X_scaled)\n"
      ]
    },
    {
      "cell_type": "markdown",
      "metadata": {
        "id": "VAqaL1f52h6H"
      },
      "source": [
        "Split the data into training (80%) and testing sets (20% of data)"
      ]
    },
    {
      "cell_type": "code",
      "execution_count": 12,
      "metadata": {
        "id": "kTtIQWc5onlT",
        "vscode": {
          "languageId": "r"
        }
      },
      "outputs": [],
      "source": [
        "set.seed(42)\n",
        "train_index <- sample(nrow(X_scaled), 0.8*nrow(X_scaled))\n",
        "X_train <- X_scaled[train_index, ]\n",
        "X_test <- X_scaled[-train_index, ]\n",
        "y_train <- y[train_index]\n",
        "y_test <- y[-train_index]"
      ]
    },
    {
      "cell_type": "code",
      "execution_count": 13,
      "metadata": {
        "id": "WixDVuGwUjy9",
        "vscode": {
          "languageId": "r"
        }
      },
      "outputs": [],
      "source": [
        "# Load necessary libraries\n",
        "library(class)  # For KNN\n",
        "library(parallel)  # For parallel processing"
      ]
    },
    {
      "cell_type": "markdown",
      "metadata": {
        "id": "gqwLuIfK2jR5"
      },
      "source": [
        "Calculate misclassification error for different k values in order to find optimal k. Find optimal k value by choosing one with lowest misclassifiaction errors. Visualize errors."
      ]
    },
    {
      "cell_type": "code",
      "execution_count": 15,
      "metadata": {
        "colab": {
          "base_uri": "https://localhost:8080/"
        },
        "id": "ZCKlB6KoooZ-",
        "outputId": "1ea0457d-77f7-469a-d34e-b97523479600",
        "vscode": {
          "languageId": "r"
        }
      },
      "outputs": [
        {
          "name": "stdout",
          "output_type": "stream",
          "text": [
            " [1] 0.07375377 0.08160760 0.06413960 0.06683879 0.05906621 0.06197303\n",
            " [7] 0.05729684 0.05868706 0.05617744 0.05717948 0.05619550 0.05752252\n",
            "[13] 0.05591565 0.05664687 0.05564483 0.05634896 0.05563580 0.05689061\n",
            "[19] 0.05543720 0.05626772 0.05596981 0.05589759 0.05596079 0.05666492\n",
            "[25] 0.05619550 0.05710726 0.05680033 0.05736906 0.05734198 0.05801903\n"
          ]
        }
      ],
      "source": [
        "# Define the range of k values\n",
        "k_range <- 1:30  # Try k from 1 to 30\n",
        "\n",
        "# Define the number of cores\n",
        "num_cores <- detectCores() - 1  # Use all but one core\n",
        "\n",
        "# Create a cluster\n",
        "cl <- makeCluster(num_cores)\n",
        "\n",
        "# Export necessary objects to the cluster\n",
        "clusterExport(cl, list(\"X_train\", \"X_test\", \"y_train\", \"y_test\", \"knn\"))\n",
        "\n",
        "# Define the function to calculate the error for each k\n",
        "calculate_error <- function(k) {\n",
        "  y_pred_k <- knn(train = X_train, test = X_test, cl = y_train, k = k)\n",
        "  error <- mean(y_pred_k != y_test)  # Calculate misclassification error\n",
        "  return(error)\n",
        "}\n",
        "\n",
        "# Use parLapply to run the function in parallel\n",
        "error_rate <- parLapply(cl, k_range, calculate_error)\n",
        "\n",
        "# Convert the result to a vector\n",
        "error_rate <- unlist(error_rate)\n",
        "\n",
        "# Stop the cluster after use\n",
        "stopCluster(cl)\n",
        "\n",
        "# Check the results\n",
        "print(error_rate)\n"
      ]
    },
    {
      "cell_type": "code",
      "execution_count": 16,
      "metadata": {
        "colab": {
          "base_uri": "https://localhost:8080/",
          "height": 455
        },
        "id": "siiNpQD5qnfE",
        "outputId": "8a2696b5-58e4-4924-cc27-0818205e92f8",
        "vscode": {
          "languageId": "r"
        }
      },
      "outputs": [
        {
          "name": "stdout",
          "output_type": "stream",
          "text": [
            "[1] \"The optimal k value is: 19\"\n"
          ]
        },
        {
          "data": {
            "image/png": "[encoded data removed]",
            "text/plain": [
              "Plot with title “Misclassification Error vs. K Value”"
            ]
          },
          "metadata": {
            "image/png": {
              "height": 420,
              "width": 420
            }
          },
          "output_type": "display_data"
        }
      ],
      "source": [
        "# Find the optimal k value\n",
        "optimal_k <- k_range[which.min(error_rate)]\n",
        "print(paste(\"The optimal k value is:\", optimal_k))\n",
        "\n",
        "# Plot the misclassification error\n",
        "plot(k_range, error_rate, type = \"b\", pch = 19, col = \"blue\",\n",
        "     main = \"Misclassification Error vs. K Value\",\n",
        "     xlab = \"K Value\", ylab = \"Misclassification Error\")"
      ]
    },
    {
      "cell_type": "markdown",
      "metadata": {
        "id": "1TxnX8P03Bqa"
      },
      "source": [
        "Fit KNN with the optimal k"
      ]
    },
    {
      "cell_type": "code",
      "execution_count": 17,
      "metadata": {
        "id": "7u6SvhlPqwEJ",
        "vscode": {
          "languageId": "r"
        }
      },
      "outputs": [],
      "source": [
        "knn <- knn(train = X_train, test = X_train, cl = y_train, k = optimal_k, prob = TRUE)"
      ]
    },
    {
      "cell_type": "code",
      "execution_count": 18,
      "metadata": {
        "colab": {
          "base_uri": "https://localhost:8080/",
          "height": 1000
        },
        "id": "65sCNMDJq1sK",
        "outputId": "759068ca-b98a-4da4-a725-c707822a4ef3",
        "vscode": {
          "languageId": "r"
        }
      },
      "outputs": [
        {
          "name": "stdout",
          "output_type": "stream",
          "text": [
            "Confusion Matrix and Statistics\n",
            "\n",
            "          Reference\n",
            "Prediction     0     1     2     3     4\n",
            "         0 21308   789    13     2     0\n",
            "         1  1014 20403   944     5     4\n",
            "         2     8   823 20444   800     0\n",
            "         3     0     8   688 20905   660\n",
            "         4     0     0     2   386 21568\n",
            "\n",
            "Overall Statistics\n",
            "                                          \n",
            "               Accuracy : 0.9445          \n",
            "                 95% CI : (0.9432, 0.9459)\n",
            "    No Information Rate : 0.2016          \n",
            "    P-Value [Acc > NIR] : < 2.2e-16       \n",
            "                                          \n",
            "                  Kappa : 0.9306          \n",
            "                                          \n",
            " Mcnemar's Test P-Value : NA              \n",
            "\n",
            "Statistics by Class:\n",
            "\n",
            "                     Class: 0 Class: 1 Class: 2 Class: 3 Class: 4\n",
            "Sensitivity            0.9542   0.9264   0.9254   0.9460   0.9701\n",
            "Specificity            0.9909   0.9778   0.9816   0.9847   0.9956\n",
            "Pos Pred Value         0.9636   0.9121   0.9261   0.9391   0.9823\n",
            "Neg Pred Value         0.9885   0.9817   0.9814   0.9865   0.9925\n",
            "Prevalence             0.2016   0.1988   0.1994   0.1995   0.2007\n",
            "Detection Rate         0.1924   0.1842   0.1846   0.1887   0.1947\n",
            "Detection Prevalence   0.1996   0.2019   0.1993   0.2010   0.1982\n",
            "Balanced Accuracy      0.9726   0.9521   0.9535   0.9654   0.9829\n"
          ]
        },
        {
          "data": {
            "image/png": "[encoded data removed]",
            "text/plain": [
              "plot without title"
            ]
          },
          "metadata": {
            "image/png": {
              "height": 420,
              "width": 420
            }
          },
          "output_type": "display_data"
        }
      ],
      "source": [
        "# Predict on the test data\n",
        "y_pred <- knn(train = X_train, test = X_test, cl = y_train, k = optimal_k)\n",
        "\n",
        "# Confusion Matrix\n",
        "conf_matrix <- confusionMatrix(data = y_pred, reference = y_test)\n",
        "\n",
        "# Display confusion matrix\n",
        "conf_matrix_df <- as.data.frame(conf_matrix$table)\n",
        "conf_matrix_df$Prediction <- factor(conf_matrix_df$Prediction, levels = unique(y_test))\n",
        "conf_matrix_df$Reference <- factor(conf_matrix_df$Reference, levels = unique(y_test))\n",
        "ggplot(conf_matrix_df, aes(x = Prediction, y = Reference, fill = Freq)) +\n",
        "  geom_tile() +\n",
        "  geom_text(aes(label = Freq), color = \"white\") +\n",
        "  scale_fill_gradient(low = \"lightblue\", high = \"blue\") +\n",
        "  labs(title = \"Confusion Matrix\", x = \"Predicted Labels\", y = \"True Labels\")\n",
        "\n",
        "# Classification Report\n",
        "print(conf_matrix)"
      ]
    },
    {
      "cell_type": "markdown",
      "metadata": {},
      "source": [
        "- Model is very accurate (0.9445)\n",
        "-  p-value (< 2.2e-16) indicates that model's accuract is statistically significant\n",
        "- High sensitivity for all classes (approx 95%) indicates excellent performance for each class"
      ]
    },
    {
      "cell_type": "markdown",
      "metadata": {
        "id": "se8VgMFBtr40"
      },
      "source": [
        "Bootstrap was working for smaller set of data but did not work for this particular dataset."
      ]
    },
    {
      "cell_type": "code",
      "execution_count": null,
      "metadata": {
        "id": "bbbMATX_vtM0",
        "vscode": {
          "languageId": "r"
        }
      },
      "outputs": [],
      "source": [
        "\n",
        "\n",
        "knn_boot <- function(data, indices) {\n",
        "  boot_data <- data[indices, ]\n",
        "\n",
        "  # Split the bootstrap sample into training and testing sets\n",
        "  set.seed(123)\n",
        "  train_idx <- sample(nrow(boot_data), 0.7*nrow(boot_data))\n",
        "  train_data <- boot_data[train_idx, ]\n",
        "  test_data <- boot_data[-train_idx, ]\n",
        "\n",
        "  # Fit the KNN model to the bootstrap training data\n",
        "  knn_boot <- knn(train = train_data[, -ncol(train_data)], test = test_data[, -ncol(test_data)], cl = train_data[, ncol(train_data)], k = optimal_k, prob = TRUE)\n",
        "\n",
        "  # Calculate the accuracy\n",
        "  accuracy_boot <- sum(knn_boot == test_data[, ncol(test_data)]) / nrow(test_data)\n",
        "\n",
        "  return(accuracy_boot)\n",
        "}\n",
        "\n",
        "\n",
        "set.seed(123)\n",
        "boot_results <- boot(data = cbind(X_train, y_train), statistic = knn_boot, R = 1000)\n",
        "\n",
        "print(\"Bootstrap results:\")\n",
        "print(boot_results)\n",
        "\n",
        "# Calculate the average accuracy\n",
        "avg_accuracy <- mean(boot_results$t)\n",
        "print(paste(\"Average accuracy:\", avg_accuracy))\n",
        "\n",
        "# Calculate the 95% confidence interval\n",
        "ci <- quantile(boot_results$t, probs = c(0.025, 0.975))\n",
        "print(paste(\"95% confidence interval:\", ci))"
      ]
    }
  ],
  "metadata": {
    "colab": {
      "provenance": []
    },
    "kernelspec": {
      "display_name": "R",
      "name": "ir"
    },
    "language_info": {
      "name": "R"
    }
  },
  "nbformat": 4,
  "nbformat_minor": 0
}
