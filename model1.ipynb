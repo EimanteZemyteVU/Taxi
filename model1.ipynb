{
 "cells": [
  {
   "cell_type": "code",
   "execution_count": 1,
   "metadata": {},
   "outputs": [
    {
     "name": "stdout",
     "output_type": "stream",
     "text": [
      "Original number of rows: 6122322\n",
      "Number of rows after removing outliers: 6122322\n"
     ]
    }
   ],
   "source": [
    "import pandas as pd\n",
    "import numpy as np\n",
    "import statsmodels.api as sm\n",
    "import statsmodels.formula.api as smf\n",
    "\n",
    "import DataImport\n",
    "import ProcessTrips\n",
    "\n",
    "trips = ProcessTrips.transformTrips(DataImport.trips)\n",
    "zones = DataImport.zones"
   ]
  },
  {
   "cell_type": "code",
   "execution_count": 2,
   "metadata": {},
   "outputs": [
    {
     "name": "stdout",
     "output_type": "stream",
     "text": [
      "<class 'pandas.core.frame.DataFrame'>\n",
      "Index: 6122322 entries, 0 to 7667786\n",
      "Data columns (total 27 columns):\n",
      " #   Column                 Dtype         \n",
      "---  ------                 -----         \n",
      " 0   VendorID               int64         \n",
      " 1   tpep_pickup_datetime   datetime64[ns]\n",
      " 2   tpep_dropoff_datetime  datetime64[ns]\n",
      " 3   passenger_count        int64         \n",
      " 4   trip_distance          float64       \n",
      " 5   RatecodeID             int64         \n",
      " 6   store_and_fwd_flag     object        \n",
      " 7   PULocationID           int64         \n",
      " 8   DOLocationID           int64         \n",
      " 9   payment_type           int64         \n",
      " 10  fare_amount            float64       \n",
      " 11  extra                  float64       \n",
      " 12  mta_tax                float64       \n",
      " 13  tip_amount             float64       \n",
      " 14  tolls_amount           float64       \n",
      " 15  improvement_surcharge  float64       \n",
      " 16  total_amount           float64       \n",
      " 17  congestion_surcharge   float64       \n",
      " 18  pickup_date            datetime64[ns]\n",
      " 19  pickup_time            object        \n",
      " 20  dropoff_date           datetime64[ns]\n",
      " 21  dropoff_time           object        \n",
      " 22  trip_duration          float64       \n",
      " 23  pickup_hour            int32         \n",
      " 24  pickup_weekday         object        \n",
      " 25  PULocationID_encoded   float64       \n",
      " 26  DOLocationID_encoded   float64       \n",
      "dtypes: datetime64[ns](4), float64(12), int32(1), int64(6), object(4)\n",
      "memory usage: 1.3+ GB\n"
     ]
    }
   ],
   "source": [
    "trips.info()"
   ]
  },
  {
   "cell_type": "markdown",
   "metadata": {},
   "source": [
    "### Dataset preparation. <br>\n",
    "- Get dummy variables\n",
    "- Split dataset to test and train\n"
   ]
  },
  {
   "cell_type": "code",
   "execution_count": null,
   "metadata": {},
   "outputs": [
    {
     "name": "stdout",
     "output_type": "stream",
     "text": [
      "<class 'pandas.core.frame.DataFrame'>\n",
      "Index: 6122322 entries, 0 to 7667786\n",
      "Data columns (total 39 columns):\n",
      " #   Column                    Dtype         \n",
      "---  ------                    -----         \n",
      " 0   VendorID                  int64         \n",
      " 1   tpep_pickup_datetime      datetime64[ns]\n",
      " 2   tpep_dropoff_datetime     datetime64[ns]\n",
      " 3   passenger_count           int64         \n",
      " 4   trip_distance             float64       \n",
      " 5   store_and_fwd_flag        object        \n",
      " 6   PULocationID              int64         \n",
      " 7   DOLocationID              int64         \n",
      " 8   payment_type              int64         \n",
      " 9   fare_amount               float64       \n",
      " 10  extra                     float64       \n",
      " 11  mta_tax                   float64       \n",
      " 12  tip_amount                float64       \n",
      " 13  tolls_amount              float64       \n",
      " 14  improvement_surcharge     float64       \n",
      " 15  total_amount              float64       \n",
      " 16  congestion_surcharge      float64       \n",
      " 17  pickup_date               datetime64[ns]\n",
      " 18  pickup_time               object        \n",
      " 19  dropoff_date              datetime64[ns]\n",
      " 20  dropoff_time              object        \n",
      " 21  trip_duration             float64       \n",
      " 22  pickup_hour               int32         \n",
      " 23  PULocationID_encoded      float64       \n",
      " 24  DOLocationID_encoded      float64       \n",
      " 25  RatecodeID_1              bool          \n",
      " 26  RatecodeID_2              bool          \n",
      " 27  RatecodeID_3              bool          \n",
      " 28  RatecodeID_4              bool          \n",
      " 29  RatecodeID_5              bool          \n",
      " 30  RatecodeID_6              bool          \n",
      " 31  RatecodeID_99             bool          \n",
      " 32  pickup_weekday_Friday     bool          \n",
      " 33  pickup_weekday_Monday     bool          \n",
      " 34  pickup_weekday_Saturday   bool          \n",
      " 35  pickup_weekday_Sunday     bool          \n",
      " 36  pickup_weekday_Thursday   bool          \n",
      " 37  pickup_weekday_Tuesday    bool          \n",
      " 38  pickup_weekday_Wednesday  bool          \n",
      "dtypes: bool(14), datetime64[ns](4), float64(12), int32(1), int64(5), object(3)\n",
      "memory usage: 1.2+ GB\n"
     ]
    }
   ],
   "source": [
    "# Get dummy variables for Ratecode and Weekday\n",
    "trips = pd.get_dummies(trips, columns=['RatecodeID', 'pickup_weekday'])\n",
    "trips.info()"
   ]
  },
  {
   "cell_type": "markdown",
   "metadata": {},
   "source": [
    "Split data to train and test "
   ]
  },
  {
   "cell_type": "code",
   "execution_count": 8,
   "metadata": {},
   "outputs": [
    {
     "name": "stdout",
     "output_type": "stream",
     "text": [
      "4897857\n",
      "1224465\n"
     ]
    }
   ],
   "source": [
    "rng = np.random.default_rng(123)\n",
    "\n",
    "dt_index = trips.index\n",
    "smpl_index = rng.choice(dt_index, size=int(np.floor(0.8 * len(dt_index))), replace=False)\n",
    "\n",
    "dt_train = trips.loc[smpl_index].reset_index(drop=True)\n",
    "dt_test = trips.drop(smpl_index)  # Drop selected indices to get the test set\n",
    "\n",
    "print(len(dt_train))\n",
    "print(len(dt_test))"
   ]
  },
  {
   "cell_type": "code",
   "execution_count": 5,
   "metadata": {},
   "outputs": [],
   "source": [
    "# import scipy\n",
    "# # For plot size options, see: plotnine.options.figure_size = (., .)\n",
    "# import matplotlib.pyplot as plt\n",
    "# # plt.figure(figsize = (., .))\n",
    "# import seaborn as sns\n",
    "\n",
    "# #Note: before this I dropped NA values in dataset transformations.\n",
    "# def reg_coef(x, y, label=None, color=None, **kwargs):\n",
    "#     # A modified version of https://stackoverflow.com/a/63433499\n",
    "#     ax = plt.gca()\n",
    "#     r,p = scipy.stats.pearsonr(x, y)\n",
    "#     val = 'r = {:.3f}'.format(r)\n",
    "#     if p <= 0.001:\n",
    "#         val = val + \"***\"  \n",
    "#     elif p <= 0.01:\n",
    "#         val = val + \"**\"  \n",
    "#     elif p <= 0.05:\n",
    "#         val = val + \"*\"    \n",
    "#     ax.annotate(val, xy=(0.5, 0.5), xycoords='axes fraction', ha='center')\n",
    "#     ax.set_axis_off()\n",
    "# g = sns.PairGrid(dt_train.iloc[:, [16, 4, 23, 22, 10, 11, 12, 13, 14, 15, 25, 26]], diag_sharey = False)\n",
    "# tmp_plt = g.map_diag(sns.histplot)\n",
    "# tmp_plt = g.map_lower(sns.scatterplot)\n",
    "# tmp_plt = g.map_upper(reg_coef)\n",
    "# plt.show()"
   ]
  },
  {
   "cell_type": "code",
   "execution_count": 13,
   "metadata": {},
   "outputs": [
    {
     "name": "stdout",
     "output_type": "stream",
     "text": [
      "====================================================================================================\n",
      "                                       coef    std err          t      P>|t|      [0.025      0.975]\n",
      "----------------------------------------------------------------------------------------------------\n",
      "Intercept                            0.5393      0.010     54.845      0.000       0.520       0.559\n",
      "RatecodeID_1[T.True]                 0.0765      0.013      5.804      0.000       0.051       0.102\n",
      "RatecodeID_2[T.True]                 0.0714      0.041      1.753      0.080      -0.008       0.151\n",
      "RatecodeID_3[T.True]                 0.0760      0.078      0.972      0.331      -0.077       0.229\n",
      "RatecodeID_4[T.True]                 0.0711      0.014      5.020      0.000       0.043       0.099\n",
      "RatecodeID_5[T.True]                 0.0712      0.013      5.382      0.000       0.045       0.097\n",
      "RatecodeID_6[T.True]                 0.0705      0.019      3.624      0.000       0.032       0.109\n",
      "RatecodeID_99[T.True]                0.1027      0.016      6.623      0.000       0.072       0.133\n",
      "pickup_weekday_Monday[T.True]        0.0011      0.000      7.755      0.000       0.001       0.001\n",
      "pickup_weekday_Tuesday[T.True]       0.0010      0.000      7.622      0.000       0.001       0.001\n",
      "pickup_weekday_Wednesday[T.True]     0.0006      0.000      4.650      0.000       0.000       0.001\n",
      "pickup_weekday_Thursday[T.True]      0.0015      0.000     11.791      0.000       0.001       0.002\n",
      "pickup_weekday_Saturday[T.True]     -0.0002      0.000     -1.582      0.114      -0.000     5.2e-05\n",
      "trip_distance                        0.0006    8.7e-05      7.311      0.000       0.000       0.001\n",
      "pickup_hour                         -0.0001   7.56e-06    -18.170      0.000      -0.000      -0.000\n",
      "trip_duration                    -2.682e-08   9.58e-09     -2.799      0.005   -4.56e-08   -8.04e-09\n",
      "fare_amount                          0.9999   2.44e-05    4.1e+04      0.000       1.000       1.000\n",
      "extra                                0.9986      0.000   8530.151      0.000       0.998       0.999\n",
      "mta_tax                              0.2696      0.005     54.845      0.000       0.260       0.279\n",
      "tip_amount                           0.0017   3.81e-05     44.482      0.000       0.002       0.002\n",
      "improvement_surcharge                0.1618      0.003     54.845      0.000       0.156       0.168\n",
      "PULocationID_encoded             -8.093e-05   1.69e-05     -4.778      0.000      -0.000   -4.77e-05\n",
      "DOLocationID_encoded                 0.0004   1.51e-05     23.843      0.000       0.000       0.000\n",
      "====================================================================================================\n"
     ]
    }
   ],
   "source": [
    "mdl = smf.ols(formula = \"total_amount ~ trip_distance + pickup_hour + trip_duration + fare_amount + \\\n",
    "                            extra + mta_tax + tip_amount +  improvement_surcharge + \\\n",
    "                             + PULocationID_encoded + DOLocationID_encoded +\\\n",
    "                            RatecodeID_1 + RatecodeID_2 + RatecodeID_3 + RatecodeID_4 + RatecodeID_5 + RatecodeID_6 + RatecodeID_99 +\\\n",
    "                            pickup_weekday_Monday + pickup_weekday_Tuesday + pickup_weekday_Wednesday +\\\n",
    "                            pickup_weekday_Thursday + pickup_weekday_Saturday\", data = dt_train)\n",
    "mdl_summary = mdl.fit()\n",
    "print(mdl_summary.summary().tables[1])\n",
    "\n"
   ]
  },
  {
   "cell_type": "code",
   "execution_count": 14,
   "metadata": {},
   "outputs": [
    {
     "name": "stderr",
     "output_type": "stream",
     "text": [
      "c:\\Users\\Eimante\\lib\\site-packages\\statsmodels\\regression\\linear_model.py:1782: RuntimeWarning: divide by zero encountered in scalar divide\n",
      "  return 1 - self.ssr/self.centered_tss\n",
      "c:\\Users\\Eimante\\lib\\site-packages\\statsmodels\\stats\\outliers_influence.py:197: RuntimeWarning: divide by zero encountered in scalar divide\n",
      "  vif = 1. / (1. - r_squared_i)\n"
     ]
    },
    {
     "name": "stdout",
     "output_type": "stream",
     "text": [
      "                            1                     2                     3   \\\n",
      "variable  RatecodeID_1[T.True]  RatecodeID_2[T.True]  RatecodeID_3[T.True]   \n",
      "VIF                        inf                   inf                   inf   \n",
      "\n",
      "                            4                     5                     6   \\\n",
      "variable  RatecodeID_4[T.True]  RatecodeID_5[T.True]  RatecodeID_6[T.True]   \n",
      "VIF                        inf                   inf                   inf   \n",
      "\n",
      "                             7                              8   \\\n",
      "variable  RatecodeID_99[T.True]  pickup_weekday_Monday[T.True]   \n",
      "VIF                         inf                       1.295708   \n",
      "\n",
      "                                      9                                 10  \\\n",
      "variable  pickup_weekday_Tuesday[T.True]  pickup_weekday_Wednesday[T.True]   \n",
      "VIF                             1.373306                          1.394865   \n",
      "\n",
      "          ...             13           14             15           16  \\\n",
      "variable  ...  trip_distance  pickup_hour  trip_duration  fare_amount   \n",
      "VIF       ...        5.78567     1.196876       1.010616     5.894499   \n",
      "\n",
      "                17       18          19                     20  \\\n",
      "variable     extra  mta_tax  tip_amount  improvement_surcharge   \n",
      "VIF       1.243864      0.0     1.25116               0.000458   \n",
      "\n",
      "                            21                    22  \n",
      "variable  PULocationID_encoded  DOLocationID_encoded  \n",
      "VIF                   1.453475              1.519802  \n",
      "\n",
      "[2 rows x 22 columns]\n"
     ]
    }
   ],
   "source": [
    "from statsmodels.stats.outliers_influence import variance_inflation_factor\n",
    "\n",
    "# VIF dataframe \n",
    "vif_data = pd.DataFrame() \n",
    "vif_data[\"variable\"] = mdl.exog_names\n",
    "# calculating VIF for each feature \n",
    "vif_data[\"VIF\"] = [variance_inflation_factor(mdl.exog, i) for i in range(len(vif_data[\"variable\"]))]\n",
    "# drop intercept:\n",
    "vif_data = vif_data[vif_data['variable'] != 'Intercept']\n",
    "print(vif_data.T)"
   ]
  }
 ],
 "metadata": {
  "kernelspec": {
   "display_name": "Python 3",
   "language": "python",
   "name": "python3"
  },
  "language_info": {
   "codemirror_mode": {
    "name": "ipython",
    "version": 3
   },
   "file_extension": ".py",
   "mimetype": "text/x-python",
   "name": "python",
   "nbconvert_exporter": "python",
   "pygments_lexer": "ipython3",
   "version": "3.10.6"
  }
 },
 "nbformat": 4,
 "nbformat_minor": 2
}
